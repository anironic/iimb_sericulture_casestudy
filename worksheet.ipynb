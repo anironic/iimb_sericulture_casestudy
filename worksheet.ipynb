{
 "cells": [
  {
   "cell_type": "code",
   "execution_count": 3,
   "metadata": {},
   "outputs": [],
   "source": [
    "import os\n",
    "import sys\n",
    "import pandas as pd\n",
    "import numpy as np\n",
    "import matplotlib.pyplot as plt\n",
    "import seaborn as sns\n",
    "DATA_FILE = './case_study_files/IMB 737 Sericulture  DATA.xlsx'\n",
    "sheet_names = {0: 'Hypotheis Test Data', 1:'Regression Data' }\n",
    "import math\n",
    "import statistics"
   ]
  },
  {
   "cell_type": "markdown",
   "metadata": {},
   "source": [
    "### Q1"
   ]
  },
  {
   "cell_type": "code",
   "execution_count": 2,
   "metadata": {},
   "outputs": [
    {
     "data": {
      "text/html": [
       "<div>\n",
       "<style scoped>\n",
       "    .dataframe tbody tr th:only-of-type {\n",
       "        vertical-align: middle;\n",
       "    }\n",
       "\n",
       "    .dataframe tbody tr th {\n",
       "        vertical-align: top;\n",
       "    }\n",
       "\n",
       "    .dataframe thead th {\n",
       "        text-align: right;\n",
       "    }\n",
       "</style>\n",
       "<table border=\"1\" class=\"dataframe\">\n",
       "  <thead>\n",
       "    <tr style=\"text-align: right;\">\n",
       "      <th></th>\n",
       "      <th>person_id</th>\n",
       "      <th>income_per_acre</th>\n",
       "      <th>gender</th>\n",
       "      <th>female</th>\n",
       "      <th>training_on_sericulture</th>\n",
       "      <th>crop_insured</th>\n",
       "      <th>chawki_bivol</th>\n",
       "      <th>chawki_combo_other</th>\n",
       "      <th>district</th>\n",
       "      <th>loan_repaid</th>\n",
       "      <th>affected_by_pest</th>\n",
       "    </tr>\n",
       "  </thead>\n",
       "  <tbody>\n",
       "    <tr>\n",
       "      <th>0</th>\n",
       "      <td>5</td>\n",
       "      <td>35937.50000</td>\n",
       "      <td>Female</td>\n",
       "      <td>1</td>\n",
       "      <td>0</td>\n",
       "      <td>0</td>\n",
       "      <td>1</td>\n",
       "      <td>0</td>\n",
       "      <td>Bellary</td>\n",
       "      <td>1</td>\n",
       "      <td>1</td>\n",
       "    </tr>\n",
       "    <tr>\n",
       "      <th>1</th>\n",
       "      <td>8</td>\n",
       "      <td>61264.82213</td>\n",
       "      <td>Male</td>\n",
       "      <td>0</td>\n",
       "      <td>1</td>\n",
       "      <td>1</td>\n",
       "      <td>1</td>\n",
       "      <td>0</td>\n",
       "      <td>Bellary</td>\n",
       "      <td>1</td>\n",
       "      <td>0</td>\n",
       "    </tr>\n",
       "    <tr>\n",
       "      <th>2</th>\n",
       "      <td>10</td>\n",
       "      <td>25000.00000</td>\n",
       "      <td>Female</td>\n",
       "      <td>1</td>\n",
       "      <td>1</td>\n",
       "      <td>0</td>\n",
       "      <td>1</td>\n",
       "      <td>0</td>\n",
       "      <td>Bellary</td>\n",
       "      <td>1</td>\n",
       "      <td>0</td>\n",
       "    </tr>\n",
       "    <tr>\n",
       "      <th>3</th>\n",
       "      <td>18</td>\n",
       "      <td>31111.11111</td>\n",
       "      <td>Male</td>\n",
       "      <td>0</td>\n",
       "      <td>1</td>\n",
       "      <td>0</td>\n",
       "      <td>0</td>\n",
       "      <td>1</td>\n",
       "      <td>Bellary</td>\n",
       "      <td>1</td>\n",
       "      <td>1</td>\n",
       "    </tr>\n",
       "    <tr>\n",
       "      <th>4</th>\n",
       "      <td>19</td>\n",
       "      <td>20161.29032</td>\n",
       "      <td>Male</td>\n",
       "      <td>0</td>\n",
       "      <td>1</td>\n",
       "      <td>0</td>\n",
       "      <td>1</td>\n",
       "      <td>0</td>\n",
       "      <td>Bellary</td>\n",
       "      <td>1</td>\n",
       "      <td>0</td>\n",
       "    </tr>\n",
       "    <tr>\n",
       "      <th>...</th>\n",
       "      <td>...</td>\n",
       "      <td>...</td>\n",
       "      <td>...</td>\n",
       "      <td>...</td>\n",
       "      <td>...</td>\n",
       "      <td>...</td>\n",
       "      <td>...</td>\n",
       "      <td>...</td>\n",
       "      <td>...</td>\n",
       "      <td>...</td>\n",
       "      <td>...</td>\n",
       "    </tr>\n",
       "    <tr>\n",
       "      <th>1213</th>\n",
       "      <td>4191</td>\n",
       "      <td>90909.09091</td>\n",
       "      <td>Male</td>\n",
       "      <td>0</td>\n",
       "      <td>0</td>\n",
       "      <td>0</td>\n",
       "      <td>0</td>\n",
       "      <td>1</td>\n",
       "      <td>Chikballapur</td>\n",
       "      <td>1</td>\n",
       "      <td>1</td>\n",
       "    </tr>\n",
       "    <tr>\n",
       "      <th>1214</th>\n",
       "      <td>4193</td>\n",
       "      <td>76923.07692</td>\n",
       "      <td>Male</td>\n",
       "      <td>0</td>\n",
       "      <td>0</td>\n",
       "      <td>0</td>\n",
       "      <td>0</td>\n",
       "      <td>1</td>\n",
       "      <td>Chikballapur</td>\n",
       "      <td>1</td>\n",
       "      <td>1</td>\n",
       "    </tr>\n",
       "    <tr>\n",
       "      <th>1215</th>\n",
       "      <td>4194</td>\n",
       "      <td>125000.00000</td>\n",
       "      <td>Male</td>\n",
       "      <td>0</td>\n",
       "      <td>0</td>\n",
       "      <td>0</td>\n",
       "      <td>0</td>\n",
       "      <td>1</td>\n",
       "      <td>Chikballapur</td>\n",
       "      <td>1</td>\n",
       "      <td>1</td>\n",
       "    </tr>\n",
       "    <tr>\n",
       "      <th>1216</th>\n",
       "      <td>4196</td>\n",
       "      <td>91666.66667</td>\n",
       "      <td>Female</td>\n",
       "      <td>1</td>\n",
       "      <td>0</td>\n",
       "      <td>0</td>\n",
       "      <td>0</td>\n",
       "      <td>1</td>\n",
       "      <td>Chikballapur</td>\n",
       "      <td>1</td>\n",
       "      <td>1</td>\n",
       "    </tr>\n",
       "    <tr>\n",
       "      <th>1217</th>\n",
       "      <td>4197</td>\n",
       "      <td>83333.33333</td>\n",
       "      <td>Male</td>\n",
       "      <td>0</td>\n",
       "      <td>0</td>\n",
       "      <td>0</td>\n",
       "      <td>0</td>\n",
       "      <td>1</td>\n",
       "      <td>Chikballapur</td>\n",
       "      <td>1</td>\n",
       "      <td>1</td>\n",
       "    </tr>\n",
       "  </tbody>\n",
       "</table>\n",
       "<p>1218 rows × 11 columns</p>\n",
       "</div>"
      ],
      "text/plain": [
       "      person_id  income_per_acre  gender  female  training_on_sericulture  \\\n",
       "0             5      35937.50000  Female       1                        0   \n",
       "1             8      61264.82213    Male       0                        1   \n",
       "2            10      25000.00000  Female       1                        1   \n",
       "3            18      31111.11111    Male       0                        1   \n",
       "4            19      20161.29032    Male       0                        1   \n",
       "...         ...              ...     ...     ...                      ...   \n",
       "1213       4191      90909.09091    Male       0                        0   \n",
       "1214       4193      76923.07692    Male       0                        0   \n",
       "1215       4194     125000.00000    Male       0                        0   \n",
       "1216       4196      91666.66667  Female       1                        0   \n",
       "1217       4197      83333.33333    Male       0                        0   \n",
       "\n",
       "      crop_insured  chawki_bivol  chawki_combo_other      district  \\\n",
       "0                0             1                   0       Bellary   \n",
       "1                1             1                   0       Bellary   \n",
       "2                0             1                   0       Bellary   \n",
       "3                0             0                   1       Bellary   \n",
       "4                0             1                   0       Bellary   \n",
       "...            ...           ...                 ...           ...   \n",
       "1213             0             0                   1  Chikballapur   \n",
       "1214             0             0                   1  Chikballapur   \n",
       "1215             0             0                   1  Chikballapur   \n",
       "1216             0             0                   1  Chikballapur   \n",
       "1217             0             0                   1  Chikballapur   \n",
       "\n",
       "      loan_repaid  affected_by_pest  \n",
       "0               1                 1  \n",
       "1               1                 0  \n",
       "2               1                 0  \n",
       "3               1                 1  \n",
       "4               1                 0  \n",
       "...           ...               ...  \n",
       "1213            1                 1  \n",
       "1214            1                 1  \n",
       "1215            1                 1  \n",
       "1216            1                 1  \n",
       "1217            1                 1  \n",
       "\n",
       "[1218 rows x 11 columns]"
      ]
     },
     "execution_count": 2,
     "metadata": {},
     "output_type": "execute_result"
    }
   ],
   "source": [
    "df_hypothesis_test = pd.read_excel(DATA_FILE, sheet_name=sheet_names[0])\n",
    "df_hypothesis_test"
   ]
  },
  {
   "cell_type": "code",
   "execution_count": 97,
   "metadata": {},
   "outputs": [],
   "source": [
    "x_bar = df_hypothesis_test.income_per_acre.mean()\n",
    "mu = 35000\n",
    "sigma = 40000\n",
    "n = df_hypothesis_test.income_per_acre.count()\n",
    "z_statistics = (x_bar - mu)/(sigma/math.sqrt(n))"
   ]
  },
  {
   "cell_type": "code",
   "execution_count": 98,
   "metadata": {},
   "outputs": [
    {
     "data": {
      "text/plain": [
       "1.6448536269514715"
      ]
     },
     "execution_count": 98,
     "metadata": {},
     "output_type": "execute_result"
    }
   ],
   "source": [
    "### significanc value = 0.05\n",
    "### confidence = (1- alpha) = 0.95\n",
    "critical_value =  statistics.NormalDist().inv_cdf(0.95)\n",
    "critical_value"
   ]
  },
  {
   "cell_type": "code",
   "execution_count": 99,
   "metadata": {},
   "outputs": [
    {
     "data": {
      "text/plain": [
       "True"
      ]
     },
     "execution_count": 99,
     "metadata": {},
     "output_type": "execute_result"
    }
   ],
   "source": [
    "z_statistics <  critical_value  # condition to retain null hypothesis"
   ]
  },
  {
   "cell_type": "markdown",
   "metadata": {},
   "source": [
    "### Q2"
   ]
  },
  {
   "cell_type": "code",
   "execution_count": 100,
   "metadata": {},
   "outputs": [
    {
     "data": {
      "text/plain": [
       "0.6467748869658674"
      ]
     },
     "execution_count": 100,
     "metadata": {},
     "output_type": "execute_result"
    }
   ],
   "source": [
    "mu2 = 36000\n",
    "x_bar = df_hypothesis_test.income_per_acre.mean()\n",
    "n = df_hypothesis_test.income_per_acre.count()\n",
    "sigma = 40000\n",
    "z_statistics2 = (x_bar - mu2)/(sigma/math.sqrt(n))\n",
    "z_statistics2"
   ]
  },
  {
   "cell_type": "code",
   "execution_count": 101,
   "metadata": {},
   "outputs": [
    {
     "data": {
      "text/plain": [
       "-1.9599639845400538"
      ]
     },
     "execution_count": 101,
     "metadata": {},
     "output_type": "execute_result"
    }
   ],
   "source": [
    "critical_value = statistics.NormalDist().inv_cdf(0.025)\n",
    "critical_value "
   ]
  },
  {
   "cell_type": "markdown",
   "metadata": {},
   "source": [
    "### Upper limit"
   ]
  },
  {
   "cell_type": "code",
   "execution_count": 102,
   "metadata": {},
   "outputs": [
    {
     "data": {
      "text/plain": [
       "36741.29231178194"
      ]
     },
     "execution_count": 102,
     "metadata": {},
     "output_type": "execute_result"
    }
   ],
   "source": [
    "mu + z_statistics * ( 40000 / math.sqrt(n))"
   ]
  },
  {
   "cell_type": "code",
   "execution_count": 88,
   "metadata": {},
   "outputs": [
    {
     "data": {
      "text/plain": [
       "0.6467748869658674"
      ]
     },
     "execution_count": 88,
     "metadata": {},
     "output_type": "execute_result"
    }
   ],
   "source": [
    "(36741.29231178194 - 36000 )/ ( 40000 / math.sqrt(n))"
   ]
  },
  {
   "cell_type": "code",
   "execution_count": 95,
   "metadata": {},
   "outputs": [
    {
     "data": {
      "text/plain": [
       "0.7411111760838357"
      ]
     },
     "execution_count": 95,
     "metadata": {},
     "output_type": "execute_result"
    }
   ],
   "source": [
    "beta = statistics.NormalDist().cdf(0.6467748869658674)\n",
    "beta"
   ]
  },
  {
   "cell_type": "code",
   "execution_count": 96,
   "metadata": {},
   "outputs": [
    {
     "data": {
      "text/plain": [
       "0.2588888239161643"
      ]
     },
     "execution_count": 96,
     "metadata": {},
     "output_type": "execute_result"
    }
   ],
   "source": [
    "power_of_test = 1  - beta\n",
    "power_of_test"
   ]
  },
  {
   "cell_type": "code",
   "execution_count": 103,
   "metadata": {},
   "outputs": [
    {
     "data": {
      "text/plain": [
       "1.519271305296625"
      ]
     },
     "execution_count": 103,
     "metadata": {},
     "output_type": "execute_result"
    }
   ],
   "source": [
    "z_statistics"
   ]
  },
  {
   "cell_type": "markdown",
   "metadata": {},
   "source": [
    "### Q3"
   ]
  },
  {
   "cell_type": "code",
   "execution_count": 3,
   "metadata": {},
   "outputs": [
    {
     "data": {
      "text/html": [
       "<div>\n",
       "<style scoped>\n",
       "    .dataframe tbody tr th:only-of-type {\n",
       "        vertical-align: middle;\n",
       "    }\n",
       "\n",
       "    .dataframe tbody tr th {\n",
       "        vertical-align: top;\n",
       "    }\n",
       "\n",
       "    .dataframe thead th {\n",
       "        text-align: right;\n",
       "    }\n",
       "</style>\n",
       "<table border=\"1\" class=\"dataframe\">\n",
       "  <thead>\n",
       "    <tr style=\"text-align: right;\">\n",
       "      <th></th>\n",
       "      <th>person_id</th>\n",
       "      <th>income_per_acre</th>\n",
       "      <th>gender</th>\n",
       "      <th>female</th>\n",
       "      <th>training_on_sericulture</th>\n",
       "      <th>crop_insured</th>\n",
       "      <th>chawki_bivol</th>\n",
       "      <th>chawki_combo_other</th>\n",
       "      <th>district</th>\n",
       "      <th>loan_repaid</th>\n",
       "      <th>affected_by_pest</th>\n",
       "    </tr>\n",
       "  </thead>\n",
       "  <tbody>\n",
       "    <tr>\n",
       "      <th>0</th>\n",
       "      <td>5</td>\n",
       "      <td>35937.50000</td>\n",
       "      <td>Female</td>\n",
       "      <td>1</td>\n",
       "      <td>0</td>\n",
       "      <td>0</td>\n",
       "      <td>1</td>\n",
       "      <td>0</td>\n",
       "      <td>Bellary</td>\n",
       "      <td>1</td>\n",
       "      <td>1</td>\n",
       "    </tr>\n",
       "    <tr>\n",
       "      <th>1</th>\n",
       "      <td>8</td>\n",
       "      <td>61264.82213</td>\n",
       "      <td>Male</td>\n",
       "      <td>0</td>\n",
       "      <td>1</td>\n",
       "      <td>1</td>\n",
       "      <td>1</td>\n",
       "      <td>0</td>\n",
       "      <td>Bellary</td>\n",
       "      <td>1</td>\n",
       "      <td>0</td>\n",
       "    </tr>\n",
       "    <tr>\n",
       "      <th>2</th>\n",
       "      <td>10</td>\n",
       "      <td>25000.00000</td>\n",
       "      <td>Female</td>\n",
       "      <td>1</td>\n",
       "      <td>1</td>\n",
       "      <td>0</td>\n",
       "      <td>1</td>\n",
       "      <td>0</td>\n",
       "      <td>Bellary</td>\n",
       "      <td>1</td>\n",
       "      <td>0</td>\n",
       "    </tr>\n",
       "    <tr>\n",
       "      <th>3</th>\n",
       "      <td>18</td>\n",
       "      <td>31111.11111</td>\n",
       "      <td>Male</td>\n",
       "      <td>0</td>\n",
       "      <td>1</td>\n",
       "      <td>0</td>\n",
       "      <td>0</td>\n",
       "      <td>1</td>\n",
       "      <td>Bellary</td>\n",
       "      <td>1</td>\n",
       "      <td>1</td>\n",
       "    </tr>\n",
       "    <tr>\n",
       "      <th>4</th>\n",
       "      <td>19</td>\n",
       "      <td>20161.29032</td>\n",
       "      <td>Male</td>\n",
       "      <td>0</td>\n",
       "      <td>1</td>\n",
       "      <td>0</td>\n",
       "      <td>1</td>\n",
       "      <td>0</td>\n",
       "      <td>Bellary</td>\n",
       "      <td>1</td>\n",
       "      <td>0</td>\n",
       "    </tr>\n",
       "    <tr>\n",
       "      <th>...</th>\n",
       "      <td>...</td>\n",
       "      <td>...</td>\n",
       "      <td>...</td>\n",
       "      <td>...</td>\n",
       "      <td>...</td>\n",
       "      <td>...</td>\n",
       "      <td>...</td>\n",
       "      <td>...</td>\n",
       "      <td>...</td>\n",
       "      <td>...</td>\n",
       "      <td>...</td>\n",
       "    </tr>\n",
       "    <tr>\n",
       "      <th>1213</th>\n",
       "      <td>4191</td>\n",
       "      <td>90909.09091</td>\n",
       "      <td>Male</td>\n",
       "      <td>0</td>\n",
       "      <td>0</td>\n",
       "      <td>0</td>\n",
       "      <td>0</td>\n",
       "      <td>1</td>\n",
       "      <td>Chikballapur</td>\n",
       "      <td>1</td>\n",
       "      <td>1</td>\n",
       "    </tr>\n",
       "    <tr>\n",
       "      <th>1214</th>\n",
       "      <td>4193</td>\n",
       "      <td>76923.07692</td>\n",
       "      <td>Male</td>\n",
       "      <td>0</td>\n",
       "      <td>0</td>\n",
       "      <td>0</td>\n",
       "      <td>0</td>\n",
       "      <td>1</td>\n",
       "      <td>Chikballapur</td>\n",
       "      <td>1</td>\n",
       "      <td>1</td>\n",
       "    </tr>\n",
       "    <tr>\n",
       "      <th>1215</th>\n",
       "      <td>4194</td>\n",
       "      <td>125000.00000</td>\n",
       "      <td>Male</td>\n",
       "      <td>0</td>\n",
       "      <td>0</td>\n",
       "      <td>0</td>\n",
       "      <td>0</td>\n",
       "      <td>1</td>\n",
       "      <td>Chikballapur</td>\n",
       "      <td>1</td>\n",
       "      <td>1</td>\n",
       "    </tr>\n",
       "    <tr>\n",
       "      <th>1216</th>\n",
       "      <td>4196</td>\n",
       "      <td>91666.66667</td>\n",
       "      <td>Female</td>\n",
       "      <td>1</td>\n",
       "      <td>0</td>\n",
       "      <td>0</td>\n",
       "      <td>0</td>\n",
       "      <td>1</td>\n",
       "      <td>Chikballapur</td>\n",
       "      <td>1</td>\n",
       "      <td>1</td>\n",
       "    </tr>\n",
       "    <tr>\n",
       "      <th>1217</th>\n",
       "      <td>4197</td>\n",
       "      <td>83333.33333</td>\n",
       "      <td>Male</td>\n",
       "      <td>0</td>\n",
       "      <td>0</td>\n",
       "      <td>0</td>\n",
       "      <td>0</td>\n",
       "      <td>1</td>\n",
       "      <td>Chikballapur</td>\n",
       "      <td>1</td>\n",
       "      <td>1</td>\n",
       "    </tr>\n",
       "  </tbody>\n",
       "</table>\n",
       "<p>1218 rows × 11 columns</p>\n",
       "</div>"
      ],
      "text/plain": [
       "      person_id  income_per_acre  gender  female  training_on_sericulture  \\\n",
       "0             5      35937.50000  Female       1                        0   \n",
       "1             8      61264.82213    Male       0                        1   \n",
       "2            10      25000.00000  Female       1                        1   \n",
       "3            18      31111.11111    Male       0                        1   \n",
       "4            19      20161.29032    Male       0                        1   \n",
       "...         ...              ...     ...     ...                      ...   \n",
       "1213       4191      90909.09091    Male       0                        0   \n",
       "1214       4193      76923.07692    Male       0                        0   \n",
       "1215       4194     125000.00000    Male       0                        0   \n",
       "1216       4196      91666.66667  Female       1                        0   \n",
       "1217       4197      83333.33333    Male       0                        0   \n",
       "\n",
       "      crop_insured  chawki_bivol  chawki_combo_other      district  \\\n",
       "0                0             1                   0       Bellary   \n",
       "1                1             1                   0       Bellary   \n",
       "2                0             1                   0       Bellary   \n",
       "3                0             0                   1       Bellary   \n",
       "4                0             1                   0       Bellary   \n",
       "...            ...           ...                 ...           ...   \n",
       "1213             0             0                   1  Chikballapur   \n",
       "1214             0             0                   1  Chikballapur   \n",
       "1215             0             0                   1  Chikballapur   \n",
       "1216             0             0                   1  Chikballapur   \n",
       "1217             0             0                   1  Chikballapur   \n",
       "\n",
       "      loan_repaid  affected_by_pest  \n",
       "0               1                 1  \n",
       "1               1                 0  \n",
       "2               1                 0  \n",
       "3               1                 1  \n",
       "4               1                 0  \n",
       "...           ...               ...  \n",
       "1213            1                 1  \n",
       "1214            1                 1  \n",
       "1215            1                 1  \n",
       "1216            1                 1  \n",
       "1217            1                 1  \n",
       "\n",
       "[1218 rows x 11 columns]"
      ]
     },
     "execution_count": 3,
     "metadata": {},
     "output_type": "execute_result"
    }
   ],
   "source": [
    "df_hypothesis_test = pd.read_excel(DATA_FILE, sheet_name=sheet_names[0])\n",
    "df_hypothesis_test"
   ]
  },
  {
   "cell_type": "code",
   "execution_count": 21,
   "metadata": {},
   "outputs": [
    {
     "data": {
      "text/plain": [
       "1.4758861486893562"
      ]
     },
     "execution_count": 21,
     "metadata": {},
     "output_type": "execute_result"
    }
   ],
   "source": [
    "s = df_hypothesis_test.income_per_acre.std()\n",
    "n = df_hypothesis_test.income_per_acre.count()\n",
    "x_bar = df_hypothesis_test.income_per_acre.mean()\n",
    "mu = 35000\n",
    "\n",
    "t = (x_bar - mu)/(s/ math.sqrt(n))\n",
    "t"
   ]
  },
  {
   "cell_type": "markdown",
   "metadata": {},
   "source": [
    "##### Inverse of t statistic"
   ]
  },
  {
   "cell_type": "code",
   "execution_count": 32,
   "metadata": {},
   "outputs": [
    {
     "data": {
      "text/plain": [
       "1.646106656353215"
      ]
     },
     "execution_count": 32,
     "metadata": {},
     "output_type": "execute_result"
    }
   ],
   "source": [
    "scipystat.t.ppf(0.95, df=n-1)"
   ]
  },
  {
   "cell_type": "markdown",
   "metadata": {},
   "source": [
    "## Q4"
   ]
  },
  {
   "cell_type": "code",
   "execution_count": 48,
   "metadata": {},
   "outputs": [
    {
     "data": {
      "text/plain": [
       "0.09523809523809523"
      ]
     },
     "execution_count": 48,
     "metadata": {},
     "output_type": "execute_result"
    }
   ],
   "source": [
    "from statistics import NormalDist\n",
    "n = df_hypothesis_test.gender.count()\n",
    "p_hat = df_hypothesis_test[df_hypothesis_test.gender == 'Female']['gender'].count()/ n\n",
    "p = 0.15\n",
    "p_hat"
   ]
  },
  {
   "cell_type": "code",
   "execution_count": 46,
   "metadata": {},
   "outputs": [
    {
     "data": {
      "text/plain": [
       "-6.510730010003325"
      ]
     },
     "execution_count": 46,
     "metadata": {},
     "output_type": "execute_result"
    }
   ],
   "source": [
    "z_stat = (p_hat  - p)/math.sqrt(((p_hat * (1-p_hat))/n))\n",
    "z_stat"
   ]
  },
  {
   "cell_type": "markdown",
   "metadata": {},
   "source": [
    "#### Inverse "
   ]
  },
  {
   "cell_type": "code",
   "execution_count": 53,
   "metadata": {},
   "outputs": [
    {
     "data": {
      "text/plain": [
       "-1.6448536269514726"
      ]
     },
     "execution_count": 53,
     "metadata": {},
     "output_type": "execute_result"
    }
   ],
   "source": [
    "critical_val = NormalDist().inv_cdf(0.05)\n",
    "critical_val"
   ]
  },
  {
   "cell_type": "code",
   "execution_count": 54,
   "metadata": {},
   "outputs": [
    {
     "data": {
      "text/plain": [
       "True"
      ]
     },
     "execution_count": 54,
     "metadata": {},
     "output_type": "execute_result"
    }
   ],
   "source": [
    "z_stat < critical_val"
   ]
  },
  {
   "cell_type": "markdown",
   "metadata": {},
   "source": [
    "## Q5"
   ]
  },
  {
   "cell_type": "code",
   "execution_count": 68,
   "metadata": {},
   "outputs": [
    {
     "data": {
      "text/plain": [
       "849"
      ]
     },
     "metadata": {},
     "output_type": "display_data"
    },
    {
     "data": {
      "text/plain": [
       "369"
      ]
     },
     "metadata": {},
     "output_type": "display_data"
    },
    {
     "data": {
      "text/plain": [
       "40084.15415223522"
      ]
     },
     "metadata": {},
     "output_type": "display_data"
    },
    {
     "data": {
      "text/plain": [
       "29049.992304885367"
      ]
     },
     "metadata": {},
     "output_type": "display_data"
    }
   ],
   "source": [
    "n1 = df_hypothesis_test[df_hypothesis_test.training_on_sericulture == 0 ]['training_on_sericulture'].count()\n",
    "n2 = df_hypothesis_test[df_hypothesis_test.training_on_sericulture == 1 ]['training_on_sericulture'].count()\n",
    "mu1 = df_hypothesis_test[df_hypothesis_test.training_on_sericulture == 0 ]['income_per_acre'].mean()\n",
    "mu2 = df_hypothesis_test[df_hypothesis_test.training_on_sericulture == 1 ]['income_per_acre'].mean()\n",
    "display(n1)\n",
    "display(n2)\n",
    "display(mu1)\n",
    "display(mu2)\n",
    "\n",
    "sample1 =  df_hypothesis_test[df_hypothesis_test.training_on_sericulture == 0 ]['income_per_acre']\n",
    "sample2 =  df_hypothesis_test[df_hypothesis_test.training_on_sericulture == 1 ]['income_per_acre']"
   ]
  },
  {
   "cell_type": "code",
   "execution_count": 64,
   "metadata": {},
   "outputs": [
    {
     "data": {
      "text/plain": [
       "42456.43301375929"
      ]
     },
     "metadata": {},
     "output_type": "display_data"
    },
    {
     "data": {
      "text/plain": [
       "36988.7315378972"
      ]
     },
     "metadata": {},
     "output_type": "display_data"
    },
    {
     "data": {
      "text/plain": [
       "1669717736.3792605"
      ]
     },
     "metadata": {},
     "output_type": "display_data"
    }
   ],
   "source": [
    "s1 =  df_hypothesis_test[df_hypothesis_test.training_on_sericulture == 0 ]['income_per_acre'].std()\n",
    "s2 =  df_hypothesis_test[df_hypothesis_test.training_on_sericulture == 1 ]['income_per_acre'].std()\n",
    "Sp2 = ((n1 - 1)* (s1) ** 2 + (n2 - 1) * (s2) ** 2)/(n1 + n2  -1)\n",
    "display(s1)\n",
    "display(s2)\n",
    "display(Sp2)"
   ]
  },
  {
   "cell_type": "markdown",
   "metadata": {},
   "source": [
    "#### Using scipy formula"
   ]
  },
  {
   "cell_type": "code",
   "execution_count": 69,
   "metadata": {},
   "outputs": [],
   "source": [
    "import scipy.stats as stats\n",
    "t_stat, p_val = stats.ttest_ind(sample1, sample2, equal_var=False)"
   ]
  },
  {
   "cell_type": "markdown",
   "metadata": {},
   "source": [
    "#### Using formula in the book"
   ]
  },
  {
   "cell_type": "code",
   "execution_count": 73,
   "metadata": {},
   "outputs": [
    {
     "data": {
      "text/plain": [
       "4.569525905038689"
      ]
     },
     "execution_count": 73,
     "metadata": {},
     "output_type": "execute_result"
    }
   ],
   "source": [
    "su = math.sqrt(s1 ** 2/n1 + s2 ** 2/ n2)\n",
    "t_val = (mu1 - mu2) /su\n",
    "t_val"
   ]
  },
  {
   "cell_type": "markdown",
   "metadata": {},
   "source": [
    "#### Calculate degree of freedom"
   ]
  },
  {
   "cell_type": "code",
   "execution_count": 77,
   "metadata": {},
   "outputs": [
    {
     "data": {
      "text/plain": [
       "798"
      ]
     },
     "execution_count": 77,
     "metadata": {},
     "output_type": "execute_result"
    }
   ],
   "source": [
    "df = int(su ** 4/( (s1 ** 2/n1) ** 2/ n1 -1 + (s2 ** 2/n2) ** 2/n2 -1))\n",
    "df"
   ]
  },
  {
   "cell_type": "markdown",
   "metadata": {},
   "source": [
    "#### T inverse using scipy formula"
   ]
  },
  {
   "cell_type": "code",
   "execution_count": 78,
   "metadata": {},
   "outputs": [
    {
     "data": {
      "text/plain": [
       "-1.646765344238518"
      ]
     },
     "execution_count": 78,
     "metadata": {},
     "output_type": "execute_result"
    }
   ],
   "source": [
    "t.ppf(0.05, df = df)"
   ]
  },
  {
   "cell_type": "markdown",
   "metadata": {},
   "source": [
    "# Q6"
   ]
  },
  {
   "cell_type": "code",
   "execution_count": 4,
   "metadata": {},
   "outputs": [
    {
     "data": {
      "text/html": [
       "<div>\n",
       "<style scoped>\n",
       "    .dataframe tbody tr th:only-of-type {\n",
       "        vertical-align: middle;\n",
       "    }\n",
       "\n",
       "    .dataframe tbody tr th {\n",
       "        vertical-align: top;\n",
       "    }\n",
       "\n",
       "    .dataframe thead th {\n",
       "        text-align: right;\n",
       "    }\n",
       "</style>\n",
       "<table border=\"1\" class=\"dataframe\">\n",
       "  <thead>\n",
       "    <tr style=\"text-align: right;\">\n",
       "      <th></th>\n",
       "      <th>person_id</th>\n",
       "      <th>income_per_acre</th>\n",
       "      <th>gender</th>\n",
       "      <th>female</th>\n",
       "      <th>training_on_sericulture</th>\n",
       "      <th>crop_insured</th>\n",
       "      <th>chawki_bivol</th>\n",
       "      <th>chawki_combo_other</th>\n",
       "      <th>district</th>\n",
       "      <th>loan_repaid</th>\n",
       "      <th>affected_by_pest</th>\n",
       "    </tr>\n",
       "  </thead>\n",
       "  <tbody>\n",
       "    <tr>\n",
       "      <th>0</th>\n",
       "      <td>5</td>\n",
       "      <td>35937.50000</td>\n",
       "      <td>Female</td>\n",
       "      <td>1</td>\n",
       "      <td>0</td>\n",
       "      <td>0</td>\n",
       "      <td>1</td>\n",
       "      <td>0</td>\n",
       "      <td>Bellary</td>\n",
       "      <td>1</td>\n",
       "      <td>1</td>\n",
       "    </tr>\n",
       "    <tr>\n",
       "      <th>1</th>\n",
       "      <td>8</td>\n",
       "      <td>61264.82213</td>\n",
       "      <td>Male</td>\n",
       "      <td>0</td>\n",
       "      <td>1</td>\n",
       "      <td>1</td>\n",
       "      <td>1</td>\n",
       "      <td>0</td>\n",
       "      <td>Bellary</td>\n",
       "      <td>1</td>\n",
       "      <td>0</td>\n",
       "    </tr>\n",
       "    <tr>\n",
       "      <th>2</th>\n",
       "      <td>10</td>\n",
       "      <td>25000.00000</td>\n",
       "      <td>Female</td>\n",
       "      <td>1</td>\n",
       "      <td>1</td>\n",
       "      <td>0</td>\n",
       "      <td>1</td>\n",
       "      <td>0</td>\n",
       "      <td>Bellary</td>\n",
       "      <td>1</td>\n",
       "      <td>0</td>\n",
       "    </tr>\n",
       "    <tr>\n",
       "      <th>3</th>\n",
       "      <td>18</td>\n",
       "      <td>31111.11111</td>\n",
       "      <td>Male</td>\n",
       "      <td>0</td>\n",
       "      <td>1</td>\n",
       "      <td>0</td>\n",
       "      <td>0</td>\n",
       "      <td>1</td>\n",
       "      <td>Bellary</td>\n",
       "      <td>1</td>\n",
       "      <td>1</td>\n",
       "    </tr>\n",
       "    <tr>\n",
       "      <th>4</th>\n",
       "      <td>19</td>\n",
       "      <td>20161.29032</td>\n",
       "      <td>Male</td>\n",
       "      <td>0</td>\n",
       "      <td>1</td>\n",
       "      <td>0</td>\n",
       "      <td>1</td>\n",
       "      <td>0</td>\n",
       "      <td>Bellary</td>\n",
       "      <td>1</td>\n",
       "      <td>0</td>\n",
       "    </tr>\n",
       "    <tr>\n",
       "      <th>...</th>\n",
       "      <td>...</td>\n",
       "      <td>...</td>\n",
       "      <td>...</td>\n",
       "      <td>...</td>\n",
       "      <td>...</td>\n",
       "      <td>...</td>\n",
       "      <td>...</td>\n",
       "      <td>...</td>\n",
       "      <td>...</td>\n",
       "      <td>...</td>\n",
       "      <td>...</td>\n",
       "    </tr>\n",
       "    <tr>\n",
       "      <th>1213</th>\n",
       "      <td>4191</td>\n",
       "      <td>90909.09091</td>\n",
       "      <td>Male</td>\n",
       "      <td>0</td>\n",
       "      <td>0</td>\n",
       "      <td>0</td>\n",
       "      <td>0</td>\n",
       "      <td>1</td>\n",
       "      <td>Chikballapur</td>\n",
       "      <td>1</td>\n",
       "      <td>1</td>\n",
       "    </tr>\n",
       "    <tr>\n",
       "      <th>1214</th>\n",
       "      <td>4193</td>\n",
       "      <td>76923.07692</td>\n",
       "      <td>Male</td>\n",
       "      <td>0</td>\n",
       "      <td>0</td>\n",
       "      <td>0</td>\n",
       "      <td>0</td>\n",
       "      <td>1</td>\n",
       "      <td>Chikballapur</td>\n",
       "      <td>1</td>\n",
       "      <td>1</td>\n",
       "    </tr>\n",
       "    <tr>\n",
       "      <th>1215</th>\n",
       "      <td>4194</td>\n",
       "      <td>125000.00000</td>\n",
       "      <td>Male</td>\n",
       "      <td>0</td>\n",
       "      <td>0</td>\n",
       "      <td>0</td>\n",
       "      <td>0</td>\n",
       "      <td>1</td>\n",
       "      <td>Chikballapur</td>\n",
       "      <td>1</td>\n",
       "      <td>1</td>\n",
       "    </tr>\n",
       "    <tr>\n",
       "      <th>1216</th>\n",
       "      <td>4196</td>\n",
       "      <td>91666.66667</td>\n",
       "      <td>Female</td>\n",
       "      <td>1</td>\n",
       "      <td>0</td>\n",
       "      <td>0</td>\n",
       "      <td>0</td>\n",
       "      <td>1</td>\n",
       "      <td>Chikballapur</td>\n",
       "      <td>1</td>\n",
       "      <td>1</td>\n",
       "    </tr>\n",
       "    <tr>\n",
       "      <th>1217</th>\n",
       "      <td>4197</td>\n",
       "      <td>83333.33333</td>\n",
       "      <td>Male</td>\n",
       "      <td>0</td>\n",
       "      <td>0</td>\n",
       "      <td>0</td>\n",
       "      <td>0</td>\n",
       "      <td>1</td>\n",
       "      <td>Chikballapur</td>\n",
       "      <td>1</td>\n",
       "      <td>1</td>\n",
       "    </tr>\n",
       "  </tbody>\n",
       "</table>\n",
       "<p>1218 rows × 11 columns</p>\n",
       "</div>"
      ],
      "text/plain": [
       "      person_id  income_per_acre  gender  female  training_on_sericulture  \\\n",
       "0             5      35937.50000  Female       1                        0   \n",
       "1             8      61264.82213    Male       0                        1   \n",
       "2            10      25000.00000  Female       1                        1   \n",
       "3            18      31111.11111    Male       0                        1   \n",
       "4            19      20161.29032    Male       0                        1   \n",
       "...         ...              ...     ...     ...                      ...   \n",
       "1213       4191      90909.09091    Male       0                        0   \n",
       "1214       4193      76923.07692    Male       0                        0   \n",
       "1215       4194     125000.00000    Male       0                        0   \n",
       "1216       4196      91666.66667  Female       1                        0   \n",
       "1217       4197      83333.33333    Male       0                        0   \n",
       "\n",
       "      crop_insured  chawki_bivol  chawki_combo_other      district  \\\n",
       "0                0             1                   0       Bellary   \n",
       "1                1             1                   0       Bellary   \n",
       "2                0             1                   0       Bellary   \n",
       "3                0             0                   1       Bellary   \n",
       "4                0             1                   0       Bellary   \n",
       "...            ...           ...                 ...           ...   \n",
       "1213             0             0                   1  Chikballapur   \n",
       "1214             0             0                   1  Chikballapur   \n",
       "1215             0             0                   1  Chikballapur   \n",
       "1216             0             0                   1  Chikballapur   \n",
       "1217             0             0                   1  Chikballapur   \n",
       "\n",
       "      loan_repaid  affected_by_pest  \n",
       "0               1                 1  \n",
       "1               1                 0  \n",
       "2               1                 0  \n",
       "3               1                 1  \n",
       "4               1                 0  \n",
       "...           ...               ...  \n",
       "1213            1                 1  \n",
       "1214            1                 1  \n",
       "1215            1                 1  \n",
       "1216            1                 1  \n",
       "1217            1                 1  \n",
       "\n",
       "[1218 rows x 11 columns]"
      ]
     },
     "execution_count": 4,
     "metadata": {},
     "output_type": "execute_result"
    }
   ],
   "source": [
    "df_hypothesis_test = pd.read_excel(DATA_FILE, sheet_name=sheet_names[0])\n",
    "df_hypothesis_test"
   ]
  },
  {
   "cell_type": "code",
   "execution_count": 45,
   "metadata": {},
   "outputs": [],
   "source": [
    "from statistics import NormalDist\n",
    "import scipy.stats \n",
    "alpha = 0.05\n",
    "d1 = df_hypothesis_test\n",
    "n = d1.training_on_sericulture.count()\n",
    "n1 = d1.training_on_sericulture.sum()\n",
    "n2 =  n  - n1\n",
    "p1 = len(d1[(d1.training_on_sericulture == 1)  & (d1.crop_insured == 1)])/n1\n",
    "p2 = len(d1[(d1.training_on_sericulture == 0)  & (d1.crop_insured == 1)])/n2\n",
    "p_pool =( n1 * p1 + n2 * p2)/(n1 + n2)"
   ]
  },
  {
   "cell_type": "code",
   "execution_count": 54,
   "metadata": {},
   "outputs": [
    {
     "data": {
      "text/plain": [
       "5.365121545386228"
      ]
     },
     "execution_count": 54,
     "metadata": {},
     "output_type": "execute_result"
    }
   ],
   "source": [
    "Z = (p1 - p2)/(math.sqrt(p_pool* (1 - p_pool) * (1/n1 + 1/n2)))\n",
    "Z"
   ]
  },
  {
   "cell_type": "code",
   "execution_count": 51,
   "metadata": {},
   "outputs": [
    {
     "data": {
      "text/plain": [
       "4.044736323649545e-08"
      ]
     },
     "execution_count": 51,
     "metadata": {},
     "output_type": "execute_result"
    }
   ],
   "source": [
    "# using statistics package\n",
    "p_value = 1 - NormalDist().cdf(Z)\n",
    "p_value"
   ]
  },
  {
   "cell_type": "code",
   "execution_count": 52,
   "metadata": {},
   "outputs": [
    {
     "data": {
      "text/plain": [
       "4.044736323649545e-08"
      ]
     },
     "execution_count": 52,
     "metadata": {},
     "output_type": "execute_result"
    }
   ],
   "source": [
    "# Using scipy\n",
    "\n",
    "p_value = 1 -scipy.stats.norm.cdf(Z)\n",
    "p_value"
   ]
  },
  {
   "cell_type": "code",
   "execution_count": 55,
   "metadata": {},
   "outputs": [
    {
     "data": {
      "text/plain": [
       "1.6448536269514715"
      ]
     },
     "execution_count": 55,
     "metadata": {},
     "output_type": "execute_result"
    }
   ],
   "source": [
    "# Right tailed test\n",
    "critical_value = NormalDist().inv_cdf(1 - alpha)\n",
    "critical_value"
   ]
  },
  {
   "cell_type": "markdown",
   "metadata": {},
   "source": [
    "### Hypothesis test"
   ]
  },
  {
   "cell_type": "code",
   "execution_count": 56,
   "metadata": {},
   "outputs": [
    {
     "data": {
      "text/plain": [
       "False"
      ]
     },
     "execution_count": 56,
     "metadata": {},
     "output_type": "execute_result"
    }
   ],
   "source": [
    "Z> critical_value"
   ]
  },
  {
   "cell_type": "markdown",
   "metadata": {},
   "source": [
    "# Q 7"
   ]
  },
  {
   "cell_type": "code",
   "execution_count": 64,
   "metadata": {},
   "outputs": [
    {
     "data": {
      "text/html": [
       "<div>\n",
       "<style scoped>\n",
       "    .dataframe tbody tr th:only-of-type {\n",
       "        vertical-align: middle;\n",
       "    }\n",
       "\n",
       "    .dataframe tbody tr th {\n",
       "        vertical-align: top;\n",
       "    }\n",
       "\n",
       "    .dataframe thead th {\n",
       "        text-align: right;\n",
       "    }\n",
       "</style>\n",
       "<table border=\"1\" class=\"dataframe\">\n",
       "  <thead>\n",
       "    <tr style=\"text-align: right;\">\n",
       "      <th></th>\n",
       "      <th>person_id</th>\n",
       "      <th>income_per_acre</th>\n",
       "      <th>gender</th>\n",
       "      <th>female</th>\n",
       "      <th>training_on_sericulture</th>\n",
       "      <th>crop_insured</th>\n",
       "      <th>chawki_bivol</th>\n",
       "      <th>chawki_combo_other</th>\n",
       "      <th>district</th>\n",
       "      <th>loan_repaid</th>\n",
       "      <th>affected_by_pest</th>\n",
       "    </tr>\n",
       "  </thead>\n",
       "  <tbody>\n",
       "    <tr>\n",
       "      <th>0</th>\n",
       "      <td>5</td>\n",
       "      <td>35937.50000</td>\n",
       "      <td>Female</td>\n",
       "      <td>1</td>\n",
       "      <td>0</td>\n",
       "      <td>0</td>\n",
       "      <td>1</td>\n",
       "      <td>0</td>\n",
       "      <td>Bellary</td>\n",
       "      <td>1</td>\n",
       "      <td>1</td>\n",
       "    </tr>\n",
       "    <tr>\n",
       "      <th>1</th>\n",
       "      <td>8</td>\n",
       "      <td>61264.82213</td>\n",
       "      <td>Male</td>\n",
       "      <td>0</td>\n",
       "      <td>1</td>\n",
       "      <td>1</td>\n",
       "      <td>1</td>\n",
       "      <td>0</td>\n",
       "      <td>Bellary</td>\n",
       "      <td>1</td>\n",
       "      <td>0</td>\n",
       "    </tr>\n",
       "    <tr>\n",
       "      <th>2</th>\n",
       "      <td>10</td>\n",
       "      <td>25000.00000</td>\n",
       "      <td>Female</td>\n",
       "      <td>1</td>\n",
       "      <td>1</td>\n",
       "      <td>0</td>\n",
       "      <td>1</td>\n",
       "      <td>0</td>\n",
       "      <td>Bellary</td>\n",
       "      <td>1</td>\n",
       "      <td>0</td>\n",
       "    </tr>\n",
       "    <tr>\n",
       "      <th>3</th>\n",
       "      <td>18</td>\n",
       "      <td>31111.11111</td>\n",
       "      <td>Male</td>\n",
       "      <td>0</td>\n",
       "      <td>1</td>\n",
       "      <td>0</td>\n",
       "      <td>0</td>\n",
       "      <td>1</td>\n",
       "      <td>Bellary</td>\n",
       "      <td>1</td>\n",
       "      <td>1</td>\n",
       "    </tr>\n",
       "    <tr>\n",
       "      <th>4</th>\n",
       "      <td>19</td>\n",
       "      <td>20161.29032</td>\n",
       "      <td>Male</td>\n",
       "      <td>0</td>\n",
       "      <td>1</td>\n",
       "      <td>0</td>\n",
       "      <td>1</td>\n",
       "      <td>0</td>\n",
       "      <td>Bellary</td>\n",
       "      <td>1</td>\n",
       "      <td>0</td>\n",
       "    </tr>\n",
       "    <tr>\n",
       "      <th>...</th>\n",
       "      <td>...</td>\n",
       "      <td>...</td>\n",
       "      <td>...</td>\n",
       "      <td>...</td>\n",
       "      <td>...</td>\n",
       "      <td>...</td>\n",
       "      <td>...</td>\n",
       "      <td>...</td>\n",
       "      <td>...</td>\n",
       "      <td>...</td>\n",
       "      <td>...</td>\n",
       "    </tr>\n",
       "    <tr>\n",
       "      <th>1213</th>\n",
       "      <td>4191</td>\n",
       "      <td>90909.09091</td>\n",
       "      <td>Male</td>\n",
       "      <td>0</td>\n",
       "      <td>0</td>\n",
       "      <td>0</td>\n",
       "      <td>0</td>\n",
       "      <td>1</td>\n",
       "      <td>Chikballapur</td>\n",
       "      <td>1</td>\n",
       "      <td>1</td>\n",
       "    </tr>\n",
       "    <tr>\n",
       "      <th>1214</th>\n",
       "      <td>4193</td>\n",
       "      <td>76923.07692</td>\n",
       "      <td>Male</td>\n",
       "      <td>0</td>\n",
       "      <td>0</td>\n",
       "      <td>0</td>\n",
       "      <td>0</td>\n",
       "      <td>1</td>\n",
       "      <td>Chikballapur</td>\n",
       "      <td>1</td>\n",
       "      <td>1</td>\n",
       "    </tr>\n",
       "    <tr>\n",
       "      <th>1215</th>\n",
       "      <td>4194</td>\n",
       "      <td>125000.00000</td>\n",
       "      <td>Male</td>\n",
       "      <td>0</td>\n",
       "      <td>0</td>\n",
       "      <td>0</td>\n",
       "      <td>0</td>\n",
       "      <td>1</td>\n",
       "      <td>Chikballapur</td>\n",
       "      <td>1</td>\n",
       "      <td>1</td>\n",
       "    </tr>\n",
       "    <tr>\n",
       "      <th>1216</th>\n",
       "      <td>4196</td>\n",
       "      <td>91666.66667</td>\n",
       "      <td>Female</td>\n",
       "      <td>1</td>\n",
       "      <td>0</td>\n",
       "      <td>0</td>\n",
       "      <td>0</td>\n",
       "      <td>1</td>\n",
       "      <td>Chikballapur</td>\n",
       "      <td>1</td>\n",
       "      <td>1</td>\n",
       "    </tr>\n",
       "    <tr>\n",
       "      <th>1217</th>\n",
       "      <td>4197</td>\n",
       "      <td>83333.33333</td>\n",
       "      <td>Male</td>\n",
       "      <td>0</td>\n",
       "      <td>0</td>\n",
       "      <td>0</td>\n",
       "      <td>0</td>\n",
       "      <td>1</td>\n",
       "      <td>Chikballapur</td>\n",
       "      <td>1</td>\n",
       "      <td>1</td>\n",
       "    </tr>\n",
       "  </tbody>\n",
       "</table>\n",
       "<p>1218 rows × 11 columns</p>\n",
       "</div>"
      ],
      "text/plain": [
       "      person_id  income_per_acre  gender  female  training_on_sericulture  \\\n",
       "0             5      35937.50000  Female       1                        0   \n",
       "1             8      61264.82213    Male       0                        1   \n",
       "2            10      25000.00000  Female       1                        1   \n",
       "3            18      31111.11111    Male       0                        1   \n",
       "4            19      20161.29032    Male       0                        1   \n",
       "...         ...              ...     ...     ...                      ...   \n",
       "1213       4191      90909.09091    Male       0                        0   \n",
       "1214       4193      76923.07692    Male       0                        0   \n",
       "1215       4194     125000.00000    Male       0                        0   \n",
       "1216       4196      91666.66667  Female       1                        0   \n",
       "1217       4197      83333.33333    Male       0                        0   \n",
       "\n",
       "      crop_insured  chawki_bivol  chawki_combo_other      district  \\\n",
       "0                0             1                   0       Bellary   \n",
       "1                1             1                   0       Bellary   \n",
       "2                0             1                   0       Bellary   \n",
       "3                0             0                   1       Bellary   \n",
       "4                0             1                   0       Bellary   \n",
       "...            ...           ...                 ...           ...   \n",
       "1213             0             0                   1  Chikballapur   \n",
       "1214             0             0                   1  Chikballapur   \n",
       "1215             0             0                   1  Chikballapur   \n",
       "1216             0             0                   1  Chikballapur   \n",
       "1217             0             0                   1  Chikballapur   \n",
       "\n",
       "      loan_repaid  affected_by_pest  \n",
       "0               1                 1  \n",
       "1               1                 0  \n",
       "2               1                 0  \n",
       "3               1                 1  \n",
       "4               1                 0  \n",
       "...           ...               ...  \n",
       "1213            1                 1  \n",
       "1214            1                 1  \n",
       "1215            1                 1  \n",
       "1216            1                 1  \n",
       "1217            1                 1  \n",
       "\n",
       "[1218 rows x 11 columns]"
      ]
     },
     "execution_count": 64,
     "metadata": {},
     "output_type": "execute_result"
    }
   ],
   "source": [
    "df_hypothesis_test = pd.read_excel(DATA_FILE, sheet_name=sheet_names[0])\n",
    "d1 = df_hypothesis_test\n",
    "d1"
   ]
  },
  {
   "cell_type": "code",
   "execution_count": 95,
   "metadata": {},
   "outputs": [
    {
     "data": {
      "text/html": [
       "<div>\n",
       "<style scoped>\n",
       "    .dataframe tbody tr th:only-of-type {\n",
       "        vertical-align: middle;\n",
       "    }\n",
       "\n",
       "    .dataframe tbody tr th {\n",
       "        vertical-align: top;\n",
       "    }\n",
       "\n",
       "    .dataframe thead th {\n",
       "        text-align: right;\n",
       "    }\n",
       "</style>\n",
       "<table border=\"1\" class=\"dataframe\">\n",
       "  <thead>\n",
       "    <tr style=\"text-align: right;\">\n",
       "      <th></th>\n",
       "      <th>district</th>\n",
       "    </tr>\n",
       "    <tr>\n",
       "      <th>district</th>\n",
       "      <th></th>\n",
       "    </tr>\n",
       "  </thead>\n",
       "  <tbody>\n",
       "    <tr>\n",
       "      <th>Belagavi</th>\n",
       "      <td>71</td>\n",
       "    </tr>\n",
       "    <tr>\n",
       "      <th>Bellary</th>\n",
       "      <td>297</td>\n",
       "    </tr>\n",
       "    <tr>\n",
       "      <th>Chikballapur</th>\n",
       "      <td>400</td>\n",
       "    </tr>\n",
       "    <tr>\n",
       "      <th>Mandya</th>\n",
       "      <td>69</td>\n",
       "    </tr>\n",
       "    <tr>\n",
       "      <th>Tumakuru</th>\n",
       "      <td>381</td>\n",
       "    </tr>\n",
       "  </tbody>\n",
       "</table>\n",
       "</div>"
      ],
      "text/plain": [
       "              district\n",
       "district              \n",
       "Belagavi            71\n",
       "Bellary            297\n",
       "Chikballapur       400\n",
       "Mandya              69\n",
       "Tumakuru           381"
      ]
     },
     "execution_count": 95,
     "metadata": {},
     "output_type": "execute_result"
    }
   ],
   "source": [
    "gp_dist = d1.groupby(by=['district'])\n",
    "dist_count = gp_dist[['district']].count()\n",
    "dist_count"
   ]
  },
  {
   "cell_type": "code",
   "execution_count": 96,
   "metadata": {},
   "outputs": [
    {
     "data": {
      "text/html": [
       "<div>\n",
       "<style scoped>\n",
       "    .dataframe tbody tr th:only-of-type {\n",
       "        vertical-align: middle;\n",
       "    }\n",
       "\n",
       "    .dataframe tbody tr th {\n",
       "        vertical-align: top;\n",
       "    }\n",
       "\n",
       "    .dataframe thead th {\n",
       "        text-align: right;\n",
       "    }\n",
       "</style>\n",
       "<table border=\"1\" class=\"dataframe\">\n",
       "  <thead>\n",
       "    <tr style=\"text-align: right;\">\n",
       "      <th></th>\n",
       "      <th>affected_by_pest</th>\n",
       "    </tr>\n",
       "    <tr>\n",
       "      <th>district</th>\n",
       "      <th></th>\n",
       "    </tr>\n",
       "  </thead>\n",
       "  <tbody>\n",
       "    <tr>\n",
       "      <th>Belagavi</th>\n",
       "      <td>3</td>\n",
       "    </tr>\n",
       "    <tr>\n",
       "      <th>Bellary</th>\n",
       "      <td>184</td>\n",
       "    </tr>\n",
       "    <tr>\n",
       "      <th>Chikballapur</th>\n",
       "      <td>243</td>\n",
       "    </tr>\n",
       "    <tr>\n",
       "      <th>Mandya</th>\n",
       "      <td>17</td>\n",
       "    </tr>\n",
       "    <tr>\n",
       "      <th>Tumakuru</th>\n",
       "      <td>169</td>\n",
       "    </tr>\n",
       "  </tbody>\n",
       "</table>\n",
       "</div>"
      ],
      "text/plain": [
       "              affected_by_pest\n",
       "district                      \n",
       "Belagavi                     3\n",
       "Bellary                    184\n",
       "Chikballapur               243\n",
       "Mandya                      17\n",
       "Tumakuru                   169"
      ]
     },
     "execution_count": 96,
     "metadata": {},
     "output_type": "execute_result"
    }
   ],
   "source": [
    "dist_pest = gp_dist[['affected_by_pest']].sum()\n",
    "dist_pest"
   ]
  },
  {
   "cell_type": "code",
   "execution_count": 132,
   "metadata": {},
   "outputs": [
    {
     "data": {
      "text/html": [
       "<div>\n",
       "<style scoped>\n",
       "    .dataframe tbody tr th:only-of-type {\n",
       "        vertical-align: middle;\n",
       "    }\n",
       "\n",
       "    .dataframe tbody tr th {\n",
       "        vertical-align: top;\n",
       "    }\n",
       "\n",
       "    .dataframe thead th {\n",
       "        text-align: right;\n",
       "    }\n",
       "</style>\n",
       "<table border=\"1\" class=\"dataframe\">\n",
       "  <thead>\n",
       "    <tr style=\"text-align: right;\">\n",
       "      <th></th>\n",
       "      <th>observations</th>\n",
       "      <th>expected</th>\n",
       "      <th>chi_statistic</th>\n",
       "    </tr>\n",
       "    <tr>\n",
       "      <th>classes</th>\n",
       "      <th></th>\n",
       "      <th></th>\n",
       "      <th></th>\n",
       "    </tr>\n",
       "  </thead>\n",
       "  <tbody>\n",
       "    <tr>\n",
       "      <th>Belagavi</th>\n",
       "      <td>3</td>\n",
       "      <td>35.908046</td>\n",
       "      <td>30.158686</td>\n",
       "    </tr>\n",
       "    <tr>\n",
       "      <th>Bellary</th>\n",
       "      <td>184</td>\n",
       "      <td>150.206897</td>\n",
       "      <td>7.602672</td>\n",
       "    </tr>\n",
       "    <tr>\n",
       "      <th>Chikballapur</th>\n",
       "      <td>243</td>\n",
       "      <td>202.298851</td>\n",
       "      <td>8.188794</td>\n",
       "    </tr>\n",
       "    <tr>\n",
       "      <th>Mandya</th>\n",
       "      <td>17</td>\n",
       "      <td>34.896552</td>\n",
       "      <td>9.178172</td>\n",
       "    </tr>\n",
       "    <tr>\n",
       "      <th>Tumakuru</th>\n",
       "      <td>169</td>\n",
       "      <td>192.689655</td>\n",
       "      <td>2.912454</td>\n",
       "    </tr>\n",
       "    <tr>\n",
       "      <th>Belagavi</th>\n",
       "      <td>68</td>\n",
       "      <td>35.091954</td>\n",
       "      <td>30.860051</td>\n",
       "    </tr>\n",
       "    <tr>\n",
       "      <th>Bellary</th>\n",
       "      <td>113</td>\n",
       "      <td>146.793103</td>\n",
       "      <td>7.779479</td>\n",
       "    </tr>\n",
       "    <tr>\n",
       "      <th>Chikballapur</th>\n",
       "      <td>157</td>\n",
       "      <td>197.701149</td>\n",
       "      <td>8.379231</td>\n",
       "    </tr>\n",
       "    <tr>\n",
       "      <th>Mandya</th>\n",
       "      <td>52</td>\n",
       "      <td>34.103448</td>\n",
       "      <td>9.391618</td>\n",
       "    </tr>\n",
       "    <tr>\n",
       "      <th>Tumakuru</th>\n",
       "      <td>212</td>\n",
       "      <td>188.310345</td>\n",
       "      <td>2.980186</td>\n",
       "    </tr>\n",
       "  </tbody>\n",
       "</table>\n",
       "</div>"
      ],
      "text/plain": [
       "              observations    expected  chi_statistic\n",
       "classes                                              \n",
       "Belagavi                 3   35.908046      30.158686\n",
       "Bellary                184  150.206897       7.602672\n",
       "Chikballapur           243  202.298851       8.188794\n",
       "Mandya                  17   34.896552       9.178172\n",
       "Tumakuru               169  192.689655       2.912454\n",
       "Belagavi                68   35.091954      30.860051\n",
       "Bellary                113  146.793103       7.779479\n",
       "Chikballapur           157  197.701149       8.379231\n",
       "Mandya                  52   34.103448       9.391618\n",
       "Tumakuru               212  188.310345       2.980186"
      ]
     },
     "execution_count": 132,
     "metadata": {},
     "output_type": "execute_result"
    }
   ],
   "source": [
    "d2  = pd.concat([dist_count,dist_pest], axis=1)\n",
    "d3 = d2.copy()\n",
    "d3['not_affected_by_pest']  = d2['district'] - d2['affected_by_pest']\n",
    "d3 = d3.drop(columns='affected_by_pest')\n",
    "tot_count, tot_pest, tot_no_pest = d2['district'].sum(), d2['affected_by_pest'].sum(), d3['not_affected_by_pest'].sum()\n",
    "d2['expected']  = (d2.district/tot_count) * tot_pest\n",
    "d3['expected']  = (d2.district/tot_count) * tot_no_pest\n",
    "d2.columns = ['district','observations','expected']\n",
    "d3.columns = ['district','observations','expected']\n",
    "d = d2.append(d3)\n",
    "d = d.drop(columns='district')\n",
    "idx = d.index.rename('classes')\n",
    "d.index = idx\n",
    "d['chi_statistic'] = (d['observations'] - d['expected'])**2/d['expected']\n",
    "d"
   ]
  },
  {
   "cell_type": "code",
   "execution_count": 133,
   "metadata": {},
   "outputs": [
    {
     "data": {
      "text/plain": [
       "117.43134302392417"
      ]
     },
     "execution_count": 133,
     "metadata": {},
     "output_type": "execute_result"
    }
   ],
   "source": [
    "chi_test_independence = d.chi_statistic.sum()\n",
    "chi_test_independence"
   ]
  },
  {
   "cell_type": "code",
   "execution_count": 150,
   "metadata": {},
   "outputs": [],
   "source": [
    "degree_of_freedom = (5-1)"
   ]
  },
  {
   "cell_type": "code",
   "execution_count": 155,
   "metadata": {},
   "outputs": [
    {
     "data": {
      "text/plain": [
       "9.487729036781154"
      ]
     },
     "execution_count": 155,
     "metadata": {},
     "output_type": "execute_result"
    }
   ],
   "source": [
    "scipy.stats.chi2.ppf(1-0.05, df = degree_of_freedom)"
   ]
  },
  {
   "cell_type": "markdown",
   "metadata": {},
   "source": [
    "# Q 8"
   ]
  },
  {
   "cell_type": "code",
   "execution_count": 156,
   "metadata": {},
   "outputs": [
    {
     "data": {
      "text/html": [
       "<div>\n",
       "<style scoped>\n",
       "    .dataframe tbody tr th:only-of-type {\n",
       "        vertical-align: middle;\n",
       "    }\n",
       "\n",
       "    .dataframe tbody tr th {\n",
       "        vertical-align: top;\n",
       "    }\n",
       "\n",
       "    .dataframe thead th {\n",
       "        text-align: right;\n",
       "    }\n",
       "</style>\n",
       "<table border=\"1\" class=\"dataframe\">\n",
       "  <thead>\n",
       "    <tr style=\"text-align: right;\">\n",
       "      <th></th>\n",
       "      <th>person_id</th>\n",
       "      <th>income_per_acre</th>\n",
       "      <th>gender</th>\n",
       "      <th>female</th>\n",
       "      <th>training_on_sericulture</th>\n",
       "      <th>crop_insured</th>\n",
       "      <th>chawki_bivol</th>\n",
       "      <th>chawki_combo_other</th>\n",
       "      <th>district</th>\n",
       "      <th>loan_repaid</th>\n",
       "      <th>affected_by_pest</th>\n",
       "    </tr>\n",
       "  </thead>\n",
       "  <tbody>\n",
       "    <tr>\n",
       "      <th>0</th>\n",
       "      <td>5</td>\n",
       "      <td>35937.50000</td>\n",
       "      <td>Female</td>\n",
       "      <td>1</td>\n",
       "      <td>0</td>\n",
       "      <td>0</td>\n",
       "      <td>1</td>\n",
       "      <td>0</td>\n",
       "      <td>Bellary</td>\n",
       "      <td>1</td>\n",
       "      <td>1</td>\n",
       "    </tr>\n",
       "    <tr>\n",
       "      <th>1</th>\n",
       "      <td>8</td>\n",
       "      <td>61264.82213</td>\n",
       "      <td>Male</td>\n",
       "      <td>0</td>\n",
       "      <td>1</td>\n",
       "      <td>1</td>\n",
       "      <td>1</td>\n",
       "      <td>0</td>\n",
       "      <td>Bellary</td>\n",
       "      <td>1</td>\n",
       "      <td>0</td>\n",
       "    </tr>\n",
       "    <tr>\n",
       "      <th>2</th>\n",
       "      <td>10</td>\n",
       "      <td>25000.00000</td>\n",
       "      <td>Female</td>\n",
       "      <td>1</td>\n",
       "      <td>1</td>\n",
       "      <td>0</td>\n",
       "      <td>1</td>\n",
       "      <td>0</td>\n",
       "      <td>Bellary</td>\n",
       "      <td>1</td>\n",
       "      <td>0</td>\n",
       "    </tr>\n",
       "    <tr>\n",
       "      <th>3</th>\n",
       "      <td>18</td>\n",
       "      <td>31111.11111</td>\n",
       "      <td>Male</td>\n",
       "      <td>0</td>\n",
       "      <td>1</td>\n",
       "      <td>0</td>\n",
       "      <td>0</td>\n",
       "      <td>1</td>\n",
       "      <td>Bellary</td>\n",
       "      <td>1</td>\n",
       "      <td>1</td>\n",
       "    </tr>\n",
       "    <tr>\n",
       "      <th>4</th>\n",
       "      <td>19</td>\n",
       "      <td>20161.29032</td>\n",
       "      <td>Male</td>\n",
       "      <td>0</td>\n",
       "      <td>1</td>\n",
       "      <td>0</td>\n",
       "      <td>1</td>\n",
       "      <td>0</td>\n",
       "      <td>Bellary</td>\n",
       "      <td>1</td>\n",
       "      <td>0</td>\n",
       "    </tr>\n",
       "    <tr>\n",
       "      <th>...</th>\n",
       "      <td>...</td>\n",
       "      <td>...</td>\n",
       "      <td>...</td>\n",
       "      <td>...</td>\n",
       "      <td>...</td>\n",
       "      <td>...</td>\n",
       "      <td>...</td>\n",
       "      <td>...</td>\n",
       "      <td>...</td>\n",
       "      <td>...</td>\n",
       "      <td>...</td>\n",
       "    </tr>\n",
       "    <tr>\n",
       "      <th>1213</th>\n",
       "      <td>4191</td>\n",
       "      <td>90909.09091</td>\n",
       "      <td>Male</td>\n",
       "      <td>0</td>\n",
       "      <td>0</td>\n",
       "      <td>0</td>\n",
       "      <td>0</td>\n",
       "      <td>1</td>\n",
       "      <td>Chikballapur</td>\n",
       "      <td>1</td>\n",
       "      <td>1</td>\n",
       "    </tr>\n",
       "    <tr>\n",
       "      <th>1214</th>\n",
       "      <td>4193</td>\n",
       "      <td>76923.07692</td>\n",
       "      <td>Male</td>\n",
       "      <td>0</td>\n",
       "      <td>0</td>\n",
       "      <td>0</td>\n",
       "      <td>0</td>\n",
       "      <td>1</td>\n",
       "      <td>Chikballapur</td>\n",
       "      <td>1</td>\n",
       "      <td>1</td>\n",
       "    </tr>\n",
       "    <tr>\n",
       "      <th>1215</th>\n",
       "      <td>4194</td>\n",
       "      <td>125000.00000</td>\n",
       "      <td>Male</td>\n",
       "      <td>0</td>\n",
       "      <td>0</td>\n",
       "      <td>0</td>\n",
       "      <td>0</td>\n",
       "      <td>1</td>\n",
       "      <td>Chikballapur</td>\n",
       "      <td>1</td>\n",
       "      <td>1</td>\n",
       "    </tr>\n",
       "    <tr>\n",
       "      <th>1216</th>\n",
       "      <td>4196</td>\n",
       "      <td>91666.66667</td>\n",
       "      <td>Female</td>\n",
       "      <td>1</td>\n",
       "      <td>0</td>\n",
       "      <td>0</td>\n",
       "      <td>0</td>\n",
       "      <td>1</td>\n",
       "      <td>Chikballapur</td>\n",
       "      <td>1</td>\n",
       "      <td>1</td>\n",
       "    </tr>\n",
       "    <tr>\n",
       "      <th>1217</th>\n",
       "      <td>4197</td>\n",
       "      <td>83333.33333</td>\n",
       "      <td>Male</td>\n",
       "      <td>0</td>\n",
       "      <td>0</td>\n",
       "      <td>0</td>\n",
       "      <td>0</td>\n",
       "      <td>1</td>\n",
       "      <td>Chikballapur</td>\n",
       "      <td>1</td>\n",
       "      <td>1</td>\n",
       "    </tr>\n",
       "  </tbody>\n",
       "</table>\n",
       "<p>1218 rows × 11 columns</p>\n",
       "</div>"
      ],
      "text/plain": [
       "      person_id  income_per_acre  gender  female  training_on_sericulture  \\\n",
       "0             5      35937.50000  Female       1                        0   \n",
       "1             8      61264.82213    Male       0                        1   \n",
       "2            10      25000.00000  Female       1                        1   \n",
       "3            18      31111.11111    Male       0                        1   \n",
       "4            19      20161.29032    Male       0                        1   \n",
       "...         ...              ...     ...     ...                      ...   \n",
       "1213       4191      90909.09091    Male       0                        0   \n",
       "1214       4193      76923.07692    Male       0                        0   \n",
       "1215       4194     125000.00000    Male       0                        0   \n",
       "1216       4196      91666.66667  Female       1                        0   \n",
       "1217       4197      83333.33333    Male       0                        0   \n",
       "\n",
       "      crop_insured  chawki_bivol  chawki_combo_other      district  \\\n",
       "0                0             1                   0       Bellary   \n",
       "1                1             1                   0       Bellary   \n",
       "2                0             1                   0       Bellary   \n",
       "3                0             0                   1       Bellary   \n",
       "4                0             1                   0       Bellary   \n",
       "...            ...           ...                 ...           ...   \n",
       "1213             0             0                   1  Chikballapur   \n",
       "1214             0             0                   1  Chikballapur   \n",
       "1215             0             0                   1  Chikballapur   \n",
       "1216             0             0                   1  Chikballapur   \n",
       "1217             0             0                   1  Chikballapur   \n",
       "\n",
       "      loan_repaid  affected_by_pest  \n",
       "0               1                 1  \n",
       "1               1                 0  \n",
       "2               1                 0  \n",
       "3               1                 1  \n",
       "4               1                 0  \n",
       "...           ...               ...  \n",
       "1213            1                 1  \n",
       "1214            1                 1  \n",
       "1215            1                 1  \n",
       "1216            1                 1  \n",
       "1217            1                 1  \n",
       "\n",
       "[1218 rows x 11 columns]"
      ]
     },
     "execution_count": 156,
     "metadata": {},
     "output_type": "execute_result"
    }
   ],
   "source": [
    "df = pd.read_excel(DATA_FILE, sheet_name=sheet_names[0])\n",
    "df"
   ]
  },
  {
   "cell_type": "code",
   "execution_count": 175,
   "metadata": {},
   "outputs": [
    {
     "data": {
      "text/plain": [
       "0.8015365275486425"
      ]
     },
     "execution_count": 175,
     "metadata": {},
     "output_type": "execute_result"
    }
   ],
   "source": [
    "d1 = df[df['chawki_bivol']==1]\n",
    "d2 = df[df['chawki_combo_other']==1]\n",
    "alpha = 0.05\n",
    "n1 = len(d1)\n",
    "n2 = len(d2)\n",
    "\n",
    "s1 = d1['income_per_acre'].var()\n",
    "s2 = d2['income_per_acre'].var()\n",
    "\n",
    "f_stats = s1/s2\n",
    "f_stats\n",
    "\n"
   ]
  },
  {
   "cell_type": "markdown",
   "metadata": {},
   "source": [
    "### Critical value"
   ]
  },
  {
   "cell_type": "code",
   "execution_count": 174,
   "metadata": {},
   "outputs": [
    {
     "data": {
      "text/plain": [
       "1.181471943529887"
      ]
     },
     "execution_count": 174,
     "metadata": {},
     "output_type": "execute_result"
    }
   ],
   "source": [
    "scipy.stats.f.ppf(1 - (alpha/2), 401, 816)"
   ]
  },
  {
   "cell_type": "code",
   "execution_count": 165,
   "metadata": {},
   "outputs": [
    {
     "data": {
      "text/plain": [
       "816"
      ]
     },
     "execution_count": 165,
     "metadata": {},
     "output_type": "execute_result"
    }
   ],
   "source": [
    "n2\n"
   ]
  },
  {
   "cell_type": "code",
   "execution_count": 179,
   "metadata": {},
   "outputs": [
    {
     "data": {
      "text/plain": [
       "1431970641.7151263"
      ]
     },
     "execution_count": 179,
     "metadata": {},
     "output_type": "execute_result"
    }
   ],
   "source": [
    "s1"
   ]
  },
  {
   "cell_type": "code",
   "execution_count": null,
   "metadata": {},
   "outputs": [],
   "source": []
  }
 ],
 "metadata": {
  "kernelspec": {
   "display_name": "Python 3",
   "language": "python",
   "name": "python3"
  },
  "language_info": {
   "codemirror_mode": {
    "name": "ipython",
    "version": 3
   },
   "file_extension": ".py",
   "mimetype": "text/x-python",
   "name": "python",
   "nbconvert_exporter": "python",
   "pygments_lexer": "ipython3",
   "version": "3.8.3"
  }
 },
 "nbformat": 4,
 "nbformat_minor": 4
}
