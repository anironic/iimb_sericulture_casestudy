{
 "cells": [
  {
   "cell_type": "code",
   "execution_count": 31,
   "metadata": {},
   "outputs": [],
   "source": [
    "import os\n",
    "import sys\n",
    "import pandas as pd\n",
    "import numpy as np\n",
    "import matplotlib.pyplot as plt\n",
    "import seaborn as sns\n",
    "DATA_FILE = './case_study_files/IMB 737 Sericulture  DATA.xlsx'\n",
    "sheet_names = {0: 'Hypotheis Test Data', 1:'Regression Data' }"
   ]
  },
  {
   "cell_type": "markdown",
   "metadata": {},
   "source": [
    "---\n",
    "INSTRUCTIONS:\n",
    "1.\tAnswer to all the questions listed below using the data provided along with the case.\n",
    "2.\tFor each question, you must clearly state the following:\n",
    "    * a.\tType of test that you are using (One sample Z or t; Two Sample Z or t; non-parametric test and so on)\n",
    "    * b.\tClearly state the null and alternative hypotheses\n",
    "    * c.\tThe test statistic value (mathematical form)\n",
    "    * d.\tThe p-value (or critical value)\n",
    "    * e.\tThe decision regarding the null hypothesis (reject or fail to reject)\n",
    "3.\tProvide the response in a word or pdf document.\n",
    "4.\tThe last date for submission of the completed assignments is 16 August 2020.\n",
    "---"
   ]
  },
  {
   "cell_type": "markdown",
   "metadata": {},
   "source": [
    "## Question 1\n",
    "\n",
    ">\tJayalaxmi Agro Tech (JAT) believes that the average income per acre from sericulture is at least Rs. 35,000 with a standard deviation of Rs. 40,000. Apply an appropriate hypothesis test to check this claim."
   ]
  },
  {
   "cell_type": "markdown",
   "metadata": {},
   "source": [
    "### Solution:\n",
    "#### Type of test\n",
    "> `1 sample Z test`\n",
    "#### Null Hypothesis\n",
    "> Avg Income\n",
    "$\n",
    "\\begin{align}\n",
    "\\mu < 35000\n",
    "\\end{align}\n",
    "$\n",
    "#### Alternative Hypothesis\n",
    "> Avg Income \n",
    "$\n",
    "\\begin{align}\n",
    "\\mu >= 35000\n",
    "\\end{align}\n",
    "$\n",
    "\n",
    "####  The test statistic value\n",
    "$\n",
    "\\begin{align}\n",
    "\\alpha = 0.05 \\\\\n",
    "\\sigma = 40000 \\\\\n",
    "\\mu = 35000 \\\\\n",
    "\\bar{x}  =  36741.29 \\\\\n",
    "n = 1218 \\\\\n",
    "Z = \\frac{(\\bar{x}  - \\mu)}{ (\\sigma / \\sqrt{n} )} \\\\\n",
    "\\end{align}\n",
    "$ \n",
    "\n",
    "* `Z statistcs value` = 1.519271305296625\n",
    "\n",
    "* `critical value` = 1.6448536269514715\n",
    "\n",
    "#### Null Hypothesis\n",
    "> **`Retain`**\n"
   ]
  },
  {
   "cell_type": "markdown",
   "metadata": {},
   "source": [
    "## Question 2\n",
    "> In the context of question 1, what is the probability of incorrectly concluding that the average income per acre is less than Rs. 35,000 when in fact the average income per acre is Rs. 36,000. What is the power of the hypothesis test?"
   ]
  },
  {
   "cell_type": "markdown",
   "metadata": {},
   "source": [
    "### Solution:\n",
    "> Probability of concluding that avg income < 35000 , when in fact is 36000 is `Type II error`. (Probability of retaining null hypothesis when it has to be rejected)\n",
    "\n",
    "#### Type of test\n",
    "\n",
    "> 1 sample z test\n",
    "\n",
    "#### given values\n",
    "\n",
    "$ \n",
    "\\mu1 = 35000 \\\\\n",
    "\\mu2 = 36000 \\\\\n",
    "$\n",
    "\n",
    "computed Z statistics value = 1.519271305296625 (computed in question 1)\n",
    "\n",
    "#### confidence interval\n",
    "\n",
    "$\n",
    "v = \\mu1 \\pm z * \\frac{\\sigma}{\\sqrt{n}}\n",
    "$\n",
    "\n",
    "##### substituting\n",
    "\n",
    "\n",
    "$X_c = 35000  +  1.519271305296625 * \\sigma/\\sqrt{n}$  = 36741.29231178194\n",
    "\n",
    "#### find the P value when the critical value is less than 36471\n",
    "\n",
    "$P(Z <= 36741.29) = P( Z <= 36741.29 - 36000/ \\frac{\\sigma}{\\sqrt{n}}) $  = 0.7411111760838357\n",
    "\n",
    "#### Type II Error $\\beta$\n",
    "$\\beta =  0.7411111760838357$\n",
    "\n",
    "#### Power of test\n",
    "\n",
    "$1 - \\beta$  =  0.2588888239161643\n"
   ]
  },
  {
   "cell_type": "code",
   "execution_count": null,
   "metadata": {},
   "outputs": [],
   "source": []
  }
 ],
 "metadata": {
  "kernelspec": {
   "display_name": "Python 3",
   "language": "python",
   "name": "python3"
  },
  "language_info": {
   "codemirror_mode": {
    "name": "ipython",
    "version": 3
   },
   "file_extension": ".py",
   "mimetype": "text/x-python",
   "name": "python",
   "nbconvert_exporter": "python",
   "pygments_lexer": "ipython3",
   "version": "3.8.3"
  }
 },
 "nbformat": 4,
 "nbformat_minor": 4
}
