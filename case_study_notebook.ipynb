{
 "cells": [
  {
   "cell_type": "code",
   "execution_count": 31,
   "metadata": {
    "jupyter": {
     "source_hidden": true
    }
   },
   "outputs": [],
   "source": [
    "import os\n",
    "import sys\n",
    "import pandas as pd\n",
    "import numpy as np\n",
    "import matplotlib.pyplot as plt\n",
    "import seaborn as sns\n",
    "DATA_FILE = './case_study_files/IMB 737 Sericulture  DATA.xlsx'\n",
    "sheet_names = {0: 'Hypotheis Test Data', 1:'Regression Data' }"
   ]
  },
  {
   "cell_type": "markdown",
   "metadata": {},
   "source": [
    "---\n",
    "INSTRUCTIONS:\n",
    "1.\tAnswer to all the questions listed below using the data provided along with the case.\n",
    "2.\tFor each question, you must clearly state the following:\n",
    "    * a.\tType of test that you are using (One sample Z or t; Two Sample Z or t; non-parametric test and so on)\n",
    "    * b.\tClearly state the null and alternative hypotheses\n",
    "    * c.\tThe test statistic value (mathematical form)\n",
    "    * d.\tThe p-value (or critical value)\n",
    "    * e.\tThe decision regarding the null hypothesis (reject or fail to reject)\n",
    "3.\tProvide the response in a word or pdf document.\n",
    "4.\tThe last date for submission of the completed assignments is 16 August 2020.\n",
    "---"
   ]
  },
  {
   "cell_type": "markdown",
   "metadata": {},
   "source": [
    "## Question 1\n",
    "\n",
    ">\tJayalaxmi Agro Tech (JAT) believes that the average income per acre from sericulture is at least Rs. 35,000 with a standard deviation of Rs. 40,000. Apply an appropriate hypothesis test to check this claim."
   ]
  },
  {
   "cell_type": "markdown",
   "metadata": {},
   "source": [
    "### Solution:\n",
    "#### Type of test\n",
    "> `1 sample Z test`\n",
    "#### Null Hypothesis\n",
    "> Avg Income\n",
    "$\n",
    "\\begin{align}\n",
    "\\mu < 35000\n",
    "\\end{align}\n",
    "$\n",
    "#### Alternative Hypothesis\n",
    "> Avg Income \n",
    "$\n",
    "\\begin{align}\n",
    "\\mu >= 35000\n",
    "\\end{align}\n",
    "$\n",
    "\n",
    "####  The test statistic value\n",
    "$\n",
    "\\begin{align}\n",
    "\\alpha = 0.05 \\\\\n",
    "\\sigma = 40000 \\\\\n",
    "\\mu = 35000 \\\\\n",
    "\\bar{x}  =  36741.29 \\\\\n",
    "n = 1218 \\\\\n",
    "Z = \\frac{(\\bar{x}  - \\mu)}{ (\\sigma / \\sqrt{n} )} \\\\\n",
    "\\end{align}\n",
    "$ \n",
    "\n",
    "* `Z statistcs value` = 1.519271305296625\n",
    "\n",
    "* `critical value` = 1.6448536269514715\n",
    "\n",
    "#### Null Hypothesis\n",
    "> **`Retain`**\n",
    "\n",
    "---\n"
   ]
  },
  {
   "cell_type": "markdown",
   "metadata": {},
   "source": [
    "## Question 2\n",
    "> In the context of question 1, what is the probability of incorrectly concluding that the average income per acre is less than Rs. 35,000 when in fact the average income per acre is Rs. 36,000. What is the power of the hypothesis test?"
   ]
  },
  {
   "cell_type": "markdown",
   "metadata": {},
   "source": [
    "### Solution:\n",
    "> Probability of concluding that avg income < 35000 , when in fact is 36000 is `Type II error`. (Probability of retaining null hypothesis when it has to be rejected)\n",
    "\n",
    "#### Type of test\n",
    "\n",
    "> 1 sample z test\n",
    "\n",
    "#### given values\n",
    "\n",
    "$ \n",
    "\\mu1 = 35000 \\\\\n",
    "\\mu2 = 36000 \\\\\n",
    "$\n",
    "\n",
    "computed Z statistics value = 1.519271305296625 (computed in question 1)\n",
    "\n",
    "#### confidence interval\n",
    "\n",
    "$\n",
    "v = \\mu1 \\pm z * \\frac{\\sigma}{\\sqrt{n}}\n",
    "$\n",
    "\n",
    "##### substituting\n",
    "\n",
    "\n",
    "$X_{critical} = 35000  +  1.519271305296625 * \\sigma/\\sqrt{n}$  = 36741.29231178194\n",
    "\n",
    "#### find the P value when the critical value is less than 36471\n",
    "\n",
    "$P(Z <= 36741.29) = P( Z <= 36741.29 - 36000/ \\frac{\\sigma}{\\sqrt{n}}) $  = 0.7411111760838357\n",
    "\n",
    "#### Type II Error $\\beta$\n",
    "$\\beta =  0.7411111760838357$\n",
    "\n",
    "#### Power of test\n",
    "\n",
    "$1 - \\beta$  =  0.2588888239161643\n",
    "\n",
    "---"
   ]
  },
  {
   "cell_type": "markdown",
   "metadata": {},
   "source": [
    "## Question 3\t\n",
    ">Realistically, it is rare that the population standard deviation is known. If the population standard deviation is not known, validate the hypothesis set up in question 1 using an appropriate test. "
   ]
  },
  {
   "cell_type": "markdown",
   "metadata": {},
   "source": [
    "### Solution:\n",
    "#### Type of test\n",
    "> `1 sample T test`\n",
    "#### Null Hypothesis\n",
    "> Avg Income\n",
    "$\n",
    "\\begin{align}\n",
    "\\mu < 35000\n",
    "\\end{align}\n",
    "$\n",
    "#### Alternative Hypothesis\n",
    "> Avg Income \n",
    "$\n",
    "\\begin{align}\n",
    "\\mu >= 35000\n",
    "\\end{align}\n",
    "$\n",
    "\n",
    "####  The test statistic value\n",
    "$\n",
    "\\begin{align}\n",
    "\\alpha = 0.05 \\\\\n",
    "s = 41175 \\\\\n",
    "\\mu = 35000 \\\\\n",
    "\\bar{x}  =  36741.29 \\\\\n",
    "n = 1218 \\\\\n",
    "t_{value} = \\frac{(\\bar{x}  - \\mu)}{ (s / \\sqrt{n} )} \\\\\n",
    "\\end{align}\n",
    "$ \n",
    "\n",
    "* `T statistcs value` = 1.4758861486893562\n",
    "\n",
    "* `critical value` = P(T value) = 1.646106656353215\n",
    "\n",
    "#### Null Hypothesis\n",
    "> **`Retain`**\n",
    "\n",
    "---"
   ]
  },
  {
   "cell_type": "markdown",
   "metadata": {},
   "source": [
    "## Question 4.\n",
    ">JAT believes that there is significant gender disparity among sericulturists in Karnataka. The claim is that the proportion of female sericulturists is less than 15%. Conduct an appropriate hypothesis test to validate this claim."
   ]
  },
  {
   "cell_type": "markdown",
   "metadata": {},
   "source": [
    "#### Null Hypothesis $H_o$\n",
    ">p >= 0.15\n",
    "\n",
    "#### Alternate Hypothesis $H_A$\n",
    ">p < 0.15\n",
    "\n",
    "#### Type of test\n",
    "\n",
    ">1 sample Z test for proportion. As $n \\times \\hat{p} \\times ( 1 - \\hat{p}) >= 10$\n",
    "\n",
    "#### Test statistic value\n",
    "$\n",
    "\\alpha = 0.05 \\\\\n",
    "\\hat{p} = 0.09523809523809523 \\\\\n",
    "n = 1218 \\\\\n",
    "p = 0.15 \\\\\n",
    "\\begin{align} \\\\\n",
    "z_{stat}  = \\frac{\\hat{p} - p}{\\sqrt{\\frac{p * (1- p)}{n}}} \\\\\n",
    "\\end{align} \\\\\n",
    "$\n",
    "\n",
    "`Z Stattics value:` -6.510730010003325\n",
    "\n",
    "`Critical Value:` -1.6448536269514726\n",
    "\n",
    "#### Null Hypothesis\n",
    "> `Reject`\n",
    "\n",
    "---"
   ]
  },
  {
   "cell_type": "markdown",
   "metadata": {},
   "source": [
    "## Question 5\n",
    ">Intuitively, the average income per acre of sericulturists who did not receive training on sericulture should be less than that of sericulturists who received training. Conduct an appropriate hypothesis test to validate this claim."
   ]
  },
  {
   "cell_type": "markdown",
   "metadata": {},
   "source": [
    "### Solution:\n",
    "\n",
    "$\\mu_1$ = Average income of sericulturists without training\n",
    "\n",
    "$\\mu_2$ = Average income of sericulturists with training\n",
    "\n",
    "#### Null Hypothesis $H_0$\n",
    "\n",
    "$\\mu_1 -  \\mu_2 \\geq 0$\n",
    "\n",
    "#### Alternative Hypothesis $H_A$\n",
    "\n",
    "$\\mu_1 -  \\mu_2 < 0$\n",
    "\n",
    "#### Type of test\n",
    "\n",
    "> 2 sample T test with `unequal variance`\n",
    "\n",
    "#### Test statistic\n",
    "\n",
    "$\n",
    "\\alpha = 0.05 \\\\\n",
    "n_1 = 849 \\\\\n",
    "n_2 = 369 \\\\\n",
    "\\mu_1 = 40084.15415223522 \\\\\n",
    "\\mu_2 = 29049.992304885367 \\\\\n",
    "s_1  = 42456.43301375929 \\\\\n",
    "s_2 = 36988.7315378972 \\\\\n",
    "Sp^2 = 1669717736.3792605 \\\\\n",
    "t = \\frac{((\\bar{x_1} - \\bar{x_2}) - (\\mu_1 - \\mu_2))}{\\sqrt{\\frac{S_1^2}{n_1} + \\frac{S_2^2}{n_2}}} \\\\\n",
    "t_{stat} = 4.569525905038689 \\\\\n",
    "P_{value}  = P (t_{stat}) = 5.663339262546472e-06 \\\\\n",
    "df = 798\n",
    "$\n",
    "\n",
    "\n",
    "`Critical value at alpha = 0.05 and degree of freedom 798`:  -1.646765344238518\n",
    "`T stat value`: 4.569525905038689\n",
    "\n",
    "#### Null Hypothesis\n",
    "> `Retain` \n",
    "\n",
    "---"
   ]
  },
  {
   "cell_type": "markdown",
   "metadata": {},
   "source": [
    "## Question 6\n",
    ">JAT believes that farmers who underwent training in sericulture have more awareness about crop insurance, hence they are more likely to buy crop insurance. Use an appropriate hypothesis test to check the claim that the proportion of farmers who took crop insurance is greater among the farmers who underwent training on sericulture. "
   ]
  },
  {
   "cell_type": "markdown",
   "metadata": {},
   "source": [
    "### Solution:"
   ]
  },
  {
   "cell_type": "markdown",
   "metadata": {},
   "source": [
    "$\\hat{p1}$ = Proportion of farmers who have got training and have crop insurance\n",
    "\n",
    "$\\hat{p2}$ = Proportion of farmers who have not got training but still have crop insurance\n",
    "\n",
    "#### Null Hypothesis $H_0$\n",
    "$\\hat{p1} \\leq \\hat{p2}$\n",
    "\n",
    "#### Alternate Hypothesis $H_A$\n",
    "$\\hat{p1} > \\hat{p2}$\n",
    "\n",
    "#### Type of Test\n",
    ">2 sample Z-test (proportion) - Right Tailed Test\n",
    "\n",
    "$\n",
    "\\alpha = 0.05 \\\\\n",
    "n = 1218 \\\\\n",
    "n_1 = 369 \\\\\n",
    "n_2 = 849 \\\\\n",
    "\\hat{p_1} = 0.16260162601626016 \\\\\n",
    "\\hat{p_2} = 0.06478209658421673 \\\\\n",
    "\\begin{align}\n",
    "\\hat{p} = \\frac{\\hat{p_1} * n_1 + \\hat{p_2} * n_2}{n_1 + n_2} = 0.09441707717569786 \\\\\n",
    "\\end{align}\n",
    "$\n",
    "\n",
    "#### Z Statistics value:\n",
    "$\n",
    "\\begin{align} \n",
    "Z = \\frac{(\\hat{p_1} - \\hat{p_2})}{\\sqrt{\\hat{p}  * ( 1 - \\hat{p}) * (\\frac{1}{n_1} + \\frac{1}{n_2})}}  = 5.365121545386228\n",
    "\\end{align}\n",
    "$\n",
    "\n",
    "#### Critical Value\n",
    ">1.6448536269514715\n",
    "\n",
    "\n",
    "#### Null Hypothesis\n",
    "   >`Rejected` - as critical value < Z statistics\n",
    "\n",
    "---"
   ]
  },
  {
   "cell_type": "markdown",
   "metadata": {},
   "source": [
    "## Question 7\n",
    ">Inferring an association between incidence of pest infestations and geographical location might help farmers to emphasize on pest control activities. Use a suitable test of hypothesis to infer whether geographical location and incidence of pest infestations are associated."
   ]
  },
  {
   "cell_type": "markdown",
   "metadata": {},
   "source": [
    "### Solution:\n",
    "\n",
    "#### Null Hypothesis $H_0$\n",
    "> Geogrpahical location and incidence of pest are independent\n",
    "\n",
    "#### Alternate Hypothesis $H_A$\n",
    "> Geographical location and incidence of pest are dependent\n",
    "\n",
    "#### Type of Test\n",
    ">Chi square test of independence"
   ]
  },
  {
   "cell_type": "code",
   "execution_count": 7,
   "metadata": {},
   "outputs": [
    {
     "data": {
      "text/html": [
       "<div>\n",
       "<style scoped>\n",
       "    .dataframe tbody tr th:only-of-type {\n",
       "        vertical-align: middle;\n",
       "    }\n",
       "\n",
       "    .dataframe tbody tr th {\n",
       "        vertical-align: top;\n",
       "    }\n",
       "\n",
       "    .dataframe thead th {\n",
       "        text-align: right;\n",
       "    }\n",
       "</style>\n",
       "<table border=\"1\" class=\"dataframe\">\n",
       "  <thead>\n",
       "    <tr style=\"text-align: right;\">\n",
       "      <th></th>\n",
       "      <th>observations</th>\n",
       "      <th>expected</th>\n",
       "      <th>chi_statistic</th>\n",
       "    </tr>\n",
       "    <tr>\n",
       "      <th>classes</th>\n",
       "      <th></th>\n",
       "      <th></th>\n",
       "      <th></th>\n",
       "    </tr>\n",
       "  </thead>\n",
       "  <tbody>\n",
       "    <tr>\n",
       "      <th>Belagavi</th>\n",
       "      <td>3</td>\n",
       "      <td>35.908046</td>\n",
       "      <td>30.158686</td>\n",
       "    </tr>\n",
       "    <tr>\n",
       "      <th>Bellary</th>\n",
       "      <td>184</td>\n",
       "      <td>150.206897</td>\n",
       "      <td>7.602672</td>\n",
       "    </tr>\n",
       "    <tr>\n",
       "      <th>Chikballapur</th>\n",
       "      <td>243</td>\n",
       "      <td>202.298851</td>\n",
       "      <td>8.188794</td>\n",
       "    </tr>\n",
       "    <tr>\n",
       "      <th>Mandya</th>\n",
       "      <td>17</td>\n",
       "      <td>34.896552</td>\n",
       "      <td>9.178172</td>\n",
       "    </tr>\n",
       "    <tr>\n",
       "      <th>Tumakuru</th>\n",
       "      <td>169</td>\n",
       "      <td>192.689655</td>\n",
       "      <td>2.912454</td>\n",
       "    </tr>\n",
       "    <tr>\n",
       "      <th>Belagavi</th>\n",
       "      <td>68</td>\n",
       "      <td>35.091954</td>\n",
       "      <td>30.860051</td>\n",
       "    </tr>\n",
       "    <tr>\n",
       "      <th>Bellary</th>\n",
       "      <td>113</td>\n",
       "      <td>146.793103</td>\n",
       "      <td>7.779479</td>\n",
       "    </tr>\n",
       "    <tr>\n",
       "      <th>Chikballapur</th>\n",
       "      <td>157</td>\n",
       "      <td>197.701149</td>\n",
       "      <td>8.379231</td>\n",
       "    </tr>\n",
       "    <tr>\n",
       "      <th>Mandya</th>\n",
       "      <td>52</td>\n",
       "      <td>34.103448</td>\n",
       "      <td>9.391618</td>\n",
       "    </tr>\n",
       "    <tr>\n",
       "      <th>Tumakuru</th>\n",
       "      <td>212</td>\n",
       "      <td>188.310345</td>\n",
       "      <td>2.980186</td>\n",
       "    </tr>\n",
       "  </tbody>\n",
       "</table>\n",
       "</div>"
      ],
      "text/plain": [
       "              observations    expected  chi_statistic\n",
       "classes                                              \n",
       "Belagavi                 3   35.908046      30.158686\n",
       "Bellary                184  150.206897       7.602672\n",
       "Chikballapur           243  202.298851       8.188794\n",
       "Mandya                  17   34.896552       9.178172\n",
       "Tumakuru               169  192.689655       2.912454\n",
       "Belagavi                68   35.091954      30.860051\n",
       "Bellary                113  146.793103       7.779479\n",
       "Chikballapur           157  197.701149       8.379231\n",
       "Mandya                  52   34.103448       9.391618\n",
       "Tumakuru               212  188.310345       2.980186"
      ]
     },
     "execution_count": 7,
     "metadata": {},
     "output_type": "execute_result"
    }
   ],
   "source": [
    "import pandas as pd\n",
    "sheet_names = {0: 'Hypotheis Test Data', 1:'Regression Data' }\n",
    "df_hypothesis_test = pd.read_excel('./case_study_files/IMB 737 Sericulture  DATA.xlsx', sheet_name=sheet_names[0])\n",
    "d1 = df_hypothesis_test\n",
    "gp_dist = d1.groupby(by=['district'])\n",
    "dist_count = gp_dist[['district']].count()\n",
    "dist_pest = gp_dist[['affected_by_pest']].sum()\n",
    "d2  = pd.concat([dist_count,dist_pest], axis=1)\n",
    "d3 = d2.copy()\n",
    "d3['not_affected_by_pest']  = d2['district'] - d2['affected_by_pest']\n",
    "d3 = d3.drop(columns='affected_by_pest')\n",
    "tot_count, tot_pest, tot_no_pest = d2['district'].sum(), d2['affected_by_pest'].sum(), d3['not_affected_by_pest'].sum()\n",
    "d2['expected']  = (d2.district/tot_count) * tot_pest\n",
    "d3['expected']  = (d2.district/tot_count) * tot_no_pest\n",
    "d2.columns = ['district','observations','expected']\n",
    "d3.columns = ['district','observations','expected']\n",
    "d = d2.append(d3)\n",
    "d = d.drop(columns='district')\n",
    "idx = d.index.rename('classes')\n",
    "d.index = idx\n",
    "d['chi_statistic'] = (d['observations'] - d['expected'])**2/d['expected']\n",
    "d"
   ]
  },
  {
   "cell_type": "markdown",
   "metadata": {},
   "source": [
    "#### Calculate degree of freedom"
   ]
  },
  {
   "cell_type": "code",
   "execution_count": 18,
   "metadata": {},
   "outputs": [
    {
     "data": {
      "text/plain": [
       "4"
      ]
     },
     "execution_count": 18,
     "metadata": {},
     "output_type": "execute_result"
    }
   ],
   "source": [
    "nr_of_districts = len(df_hypothesis_test['district'].unique())\n",
    "categories = 2 #affected by pest and not affected by pest\n",
    "degree_of_freedom = (nr_of_districts-1) * (categories - 1)\n",
    "degree_of_freedom"
   ]
  },
  {
   "cell_type": "markdown",
   "metadata": {},
   "source": [
    "#### Test statistics\n",
    "\n",
    "$\\alpha = 0.05$\n",
    "\n",
    "degree_of_freedom = 4"
   ]
  },
  {
   "cell_type": "markdown",
   "metadata": {},
   "source": [
    "#### Test statistics value:"
   ]
  },
  {
   "cell_type": "code",
   "execution_count": 16,
   "metadata": {},
   "outputs": [
    {
     "data": {
      "text/plain": [
       "117.43134302392417"
      ]
     },
     "execution_count": 16,
     "metadata": {},
     "output_type": "execute_result"
    }
   ],
   "source": [
    "chi_test_independence = d.chi_statistic.sum()\n",
    "chi_test_independence"
   ]
  },
  {
   "cell_type": "markdown",
   "metadata": {},
   "source": [
    "#### Critical Value"
   ]
  },
  {
   "cell_type": "code",
   "execution_count": 20,
   "metadata": {},
   "outputs": [
    {
     "data": {
      "text/plain": [
       "9.487729036781154"
      ]
     },
     "execution_count": 20,
     "metadata": {},
     "output_type": "execute_result"
    }
   ],
   "source": [
    "import scipy.stats\n",
    "scipy.stats.chi2.ppf(1 - 0.05, degree_of_freedom)"
   ]
  },
  {
   "cell_type": "markdown",
   "metadata": {},
   "source": [
    "#### Null Hypothesis\n",
    ">`Reject` - Chi test is a right tailed test and the Null Hypothesis is rejected\n",
    "\n",
    "---"
   ]
  },
  {
   "cell_type": "markdown",
   "metadata": {},
   "source": [
    "## Question 8\n",
    ">JAT suspects that there is equal variability in income per acre when the sericulturists are using bivoltine hybrids alone as compared to when they are using a combination of bivoltine hybrids and other hybrids or other hybrids exclusively. Check this claim by conducting an appropriate hypothesis test"
   ]
  },
  {
   "cell_type": "markdown",
   "metadata": {},
   "source": [
    "### Solution:\n",
    "\n",
    "#### Null Hypothesis $H_0$\n",
    "$\\sigma_1 = \\sigma_2$\n",
    "\n",
    "#### Alternate Hypothesis $H_A$\n",
    "$\\sigma_1 \\neq \\sigma_2$\n",
    "\n",
    "#### Type of test \n",
    ">F test for equality of population variances\n",
    "\n",
    "#### Test Statistic\n",
    "\n",
    "$\n",
    "\\alpha = 0.05\n",
    "n_1 = 402 \\\\\n",
    "n_2 = 817 \\\\\n",
    "s_1^2 = 1431970641.7151263 \\\\\n",
    "s_2^2 = 1786531982.6340976 \\\\ \n",
    "$\n",
    "\n",
    "$\n",
    "\\begin{align}\n",
    "F_{n_1-1,n_2-1} = \\frac{s_1^2}{s_2^2}\n",
    "\\end{align}\n",
    "$\n",
    "\n",
    "#### F Statistic:\n",
    "F_stat = `0.8015365275486425`\n",
    "\n",
    "#### Critical Value:\n",
    "`1.181471943529887`\n",
    "\n",
    "\n",
    "#### Null Hypothesis\n",
    ">`Retain`\n",
    "\n",
    "---"
   ]
  },
  {
   "cell_type": "markdown",
   "metadata": {},
   "source": [
    "## Question 9\n",
    ">From a policy perspective, some districts of Karnataka might require more attention in terms of aid provided. One way to validate this is to check if there is significant disparity in the average income per acre of sericulture farmers in different districts. Use a suitable statistical method to check this."
   ]
  },
  {
   "cell_type": "markdown",
   "metadata": {},
   "source": [
    "### Solution:\n",
    "\n",
    "#### Null Hypothesis $H_0$\n",
    "*The average income per acre is same for all districts*\n",
    "\n",
    "$\\mu_1 = \\mu_2 =\\mu_3 = \\mu_4 .... $\n",
    "\n",
    "#### Alternate Hypothesis $H_A$\n",
    "\n",
    "$\\mu_1 \\neq \\mu_2 \\neq \\mu_3 \\neq \\mu_4 .... $\n",
    "\n",
    "#### Type of Test\n",
    "> `One way analysis of variance (ANOVA)`\n",
    "\n",
    "#### Statistic\n",
    "\n",
    "$\\alpha = 0.05$\n",
    "k = 5\n",
    "n = 1218\n",
    "$F_{value} = 92.58682070439953$\n",
    "\n",
    "$p_{value} = 9.408845402203028e-69$\n",
    "\n",
    "$critical_{value} = 2.796343824348884$\n",
    "\n",
    "#### Null Hypothesis\n",
    ">`Reject` - Right tailed test - F-value is higher than critical value"
   ]
  },
  {
   "cell_type": "code",
   "execution_count": 50,
   "metadata": {},
   "outputs": [],
   "source": [
    "import pandas as pd\n",
    "import scipy.stats\n",
    "alpha = 0.05\n",
    "sheet_names = {0: 'Hypotheis Test Data', 1:'Regression Data' }\n",
    "df = pd.read_excel('./case_study_files/IMB 737 Sericulture  DATA.xlsx', sheet_name=sheet_names[0])\n",
    "districts = df['district'].unique()\n",
    "k = len(districts)\n",
    "n = len(df)\n",
    "input_array = [df[df.district == district]['income_per_acre'].to_numpy() for district in districts]\n",
    "F, p_value= scipy.stats.f_oneway(*input_array)\n",
    "critical_value = scipy.stats.f.ppf((1 - alpha/2), k-1, n-k )"
   ]
  }
 ],
 "metadata": {
  "kernelspec": {
   "display_name": "Python 3",
   "language": "python",
   "name": "python3"
  },
  "language_info": {
   "codemirror_mode": {
    "name": "ipython",
    "version": 3
   },
   "file_extension": ".py",
   "mimetype": "text/x-python",
   "name": "python",
   "nbconvert_exporter": "python",
   "pygments_lexer": "ipython3",
   "version": "3.8.3"
  }
 },
 "nbformat": 4,
 "nbformat_minor": 4
}
